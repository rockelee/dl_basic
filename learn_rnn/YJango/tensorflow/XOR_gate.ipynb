{
 "cells": [
  {
   "cell_type": "code",
   "execution_count": 1,
   "metadata": {
    "collapsed": false
   },
   "outputs": [],
   "source": [
    "import tensorflow as tf\n",
    "import numpy as np\n",
    "import matplotlib.pyplot as plt\n",
    "%matplotlib inline\n",
    "tf.set_random_seed(55)\n",
    "np.random.seed(55)"
   ]
  },
  {
   "cell_type": "code",
   "execution_count": 2,
   "metadata": {
    "collapsed": false
   },
   "outputs": [],
   "source": [
    "class FNN(object):\n",
    "    \"\"\"Build a general FeedForward neural network\n",
    "    Parameters\n",
    "    ----------\n",
    "    learning_rate : float\n",
    "    drop_out : float\n",
    "    Layers : list\n",
    "        The number of layers\n",
    "    N_hidden : list\n",
    "        The numbers of nodes in layers\n",
    "    D_input : int\n",
    "        Input dimension\n",
    "    D_label : int\n",
    "        Label dimension\n",
    "    Task_type : string\n",
    "        'regression' or 'classification'\n",
    "    L2_lambda : float\n",
    "    Auther : YJango; 2016/11/25\n",
    "    \"\"\"\n",
    "    def __init__(self, learning_rate, drop_keep, Layers, N_hidden, D_input, D_label, Task_type='regression', L2_lambda=0.0):\n",
    "        \n",
    "        #var\n",
    "        self.learning_rate = learning_rate\n",
    "        self.drop_keep = np.array(drop_keep).astype(np.float32)\n",
    "        self.Layers = Layers\n",
    "        self.N_hidden = N_hidden\n",
    "        self.D_input = D_input\n",
    "        self.D_label = D_label\n",
    "        # 类型控制loss函数的选择\n",
    "        self.Task_type = Task_type\n",
    "        # l2 regularization的惩罚强弱，过高会使得输出都拉向0\n",
    "        self.L2_lambda = L2_lambda\n",
    "        # 用于存放所累积的每层l2 regularization\n",
    "        self.l2_penalty = tf.constant(0.0)\n",
    "        \n",
    "        # 用于生成tensorflow缩放图的,括号里起名字\n",
    "        with tf.name_scope('Input'):\n",
    "            self.inputs = tf.placeholder(tf.float32, [None, D_input], name=\"inputs\")\n",
    "        with tf.name_scope('Label'):\n",
    "            self.labels = tf.placeholder(tf.float32, [None, D_label], name=\"labels\")\n",
    "        with tf.name_scope('keep_rate'):\n",
    "            self.drop_keep_rate = tf.placeholder(tf.float32, name=\"dropout_keep\")\n",
    "        \n",
    "\n",
    "        # 初始化的时候直接生成，build方法是后面会建立的\n",
    "        self.build('F')\n",
    "        \n",
    "    def weight_init(self,shape):\n",
    "        # shape : list [in_dim, out_dim]\n",
    "        # can change initialization here\n",
    "        initial = tf.random_uniform(shape,minval=-np.sqrt(5)*np.sqrt(1.0/shape[0]), maxval=np.sqrt(5)*np.sqrt(1.0/shape[0]))\n",
    "        return tf.Variable(initial)\n",
    "\n",
    "    def bias_init(self,shape):\n",
    "        # can change initialization here\n",
    "        initial = tf.constant(0.1, shape=shape)\n",
    "        return tf.Variable(initial)\n",
    "    \n",
    "    def variable_summaries(self, var, name):\n",
    "        with tf.name_scope(name+'_summaries'):\n",
    "            mean = tf.reduce_mean(var)\n",
    "            tf.scalar_summary('mean/' + name, mean)\n",
    "        with tf.name_scope(name+'_stddev'):\n",
    "            stddev = tf.sqrt(tf.reduce_mean(tf.square(var - mean)))\n",
    "        # 记录每次训练后变量的数值变化\n",
    "        tf.scalar_summary('_stddev/' + name, stddev)\n",
    "        tf.scalar_summary('_max/' + name, tf.reduce_max(var))\n",
    "        tf.scalar_summary('_min/' + name, tf.reduce_min(var))\n",
    "        tf.histogram_summary(name, var)\n",
    "\n",
    "    def layer(self,in_tensor, in_dim, out_dim, layer_name, act=tf.nn.relu):\n",
    "        with tf.name_scope(layer_name):\n",
    "            with tf.name_scope(layer_name+'_weights'):\n",
    "                # 用所建立的weight_init函数进行初始化。\n",
    "                weights = self.weight_init([in_dim, out_dim])\n",
    "                # 存放着每一个权重W\n",
    "                self.W.append(weights)\n",
    "                # 对权重进行统计\n",
    "                self.variable_summaries(weights, layer_name + '/weights')\n",
    "            with tf.name_scope(layer_name+'_biases'):\n",
    "                biases = self.bias_init([out_dim])\n",
    "                # 存放着每一个偏移b\n",
    "                self.b.append(biases)\n",
    "                self.variable_summaries(biases, layer_name + '/biases')\n",
    "            with tf.name_scope(layer_name+'_Wx_plus_b'):\n",
    "                # 计算Wx+b\n",
    "                pre_activate = tf.matmul(in_tensor, weights) + biases\n",
    "                # 记录直方图\n",
    "                tf.histogram_summary(layer_name + '/pre_activations', pre_activate)\n",
    "            # 计算a(Wx+b)\n",
    "            activations = act(pre_activate, name='activation')\n",
    "            tf.histogram_summary(layer_name + '/activations', activations)\n",
    "        # 最终返回该层的输出，以及权重W的L2\n",
    "        return activations, tf.nn.l2_loss(weights)\n",
    "\n",
    "    def drop_layer(self,in_tensor):\n",
    "            #tf.scalar_summary('dropout_keep', self.drop_keep_rate)\n",
    "        dropped = tf.nn.dropout(in_tensor, self.drop_keep_rate)\n",
    "        return dropped\n",
    "\n",
    "    def build(self, prefix):\n",
    "        # 建立网络 \n",
    "        # incoming也代表当前tensor的流动位置\n",
    "        incoming = self.inputs\n",
    "        # 如果没有隐藏层\n",
    "        if self.Layers!=0:\n",
    "            layer_nodes = [self.D_input] + self.N_hidden\n",
    "        else:\n",
    "            layer_nodes = [self.D_input]\n",
    "        \n",
    "        # hid_layers用于存储所有隐藏层的输出\n",
    "        self.hid_layers=[]\n",
    "        # W用于存储所有层的权重\n",
    "        self.W=[]\n",
    "        # b用于存储所有层的偏移\n",
    "        self.b=[]\n",
    "        # total_l2用于存储所有层的L2\n",
    "        self.total_l2=[]\n",
    "        \n",
    "        # 开始叠加隐藏层。这跟千层饼没什么区别。\n",
    "        for l in range(self.Layers):\n",
    "            # 使用刚才编写的函数来建立层，并更新incoming的位置\n",
    "            incoming,l2_loss= self.layer(incoming,layer_nodes[l],layer_nodes[l+1],prefix+'_hid_'+str(l+1),act=tf.nn.relu)\n",
    "            # 累计l2\n",
    "            self.total_l2.append(l2_loss)\n",
    "            # 输出一些信息，让我们知道网络在建造中做了什么\n",
    "            print('Add dense layer: relu with drop_keep:%s' %self.drop_keep)\n",
    "            print('    %sD --> %sD' %(layer_nodes[l],layer_nodes[l+1]))\n",
    "            # 存储所有隐藏层的输出\n",
    "            self.hid_layers.append(incoming)\n",
    "            # 加入dropout层\n",
    "            incoming = self.drop_layer(incoming)\n",
    "            \n",
    "        # 输出层的建立。输出层需要特别对待的原因是输出层的activation function要根据任务来变。\n",
    "        # 回归任务的话，下面用的是tf.identity，也就是没有activation function\n",
    "        if self.Task_type=='regression':\n",
    "            out_act=tf.identity\n",
    "        else:\n",
    "            # 分类任务使用softmax来拟合概率\n",
    "            out_act=tf.nn.softmax\n",
    "        self.output,l2_loss= self.layer(incoming,layer_nodes[-1],self.D_label, layer_name='output',act=out_act)\n",
    "        print('Add output layer: linear')\n",
    "        print('    %sD --> %sD' %(layer_nodes[-1],self.D_label))\n",
    "        \n",
    "        # l2 loss的缩放图\n",
    "        with tf.name_scope('total_l2'):\n",
    "            for l2 in self.total_l2:\n",
    "                self.l2_penalty+=l2\n",
    "            tf.scalar_summary('l2_penalty', self.l2_penalty)\n",
    "            \n",
    "        # 不同任务的loss\n",
    "        # 若为回归，则loss是用于判断所有预测值和实际值差别的函数。\n",
    "        if self.Task_type=='regression':\n",
    "            with tf.name_scope('SSE'):\n",
    "                self.loss=tf.reduce_mean((self.output-self.labels)**2)\n",
    "                tf.scalar_summary('loss', self.loss)\n",
    "        else:\n",
    "            # 若为分类，cross entropy的loss function\n",
    "            entropy = tf.nn.softmax_cross_entropy_with_logits(logits=self.output, labels=self.labels)\n",
    "            with tf.name_scope('cross_entropy'):\n",
    "                self.loss = tf.reduce_mean(entropy)\n",
    "                tf.scalar_summary('loss', self.loss)\n",
    "            with tf.name_scope('accuracy'):\n",
    "                correct_prediction = tf.equal(tf.argmax(self.output, 1), tf.argmax(self.labels, 1))\n",
    "                self.accuracy = tf.reduce_mean(tf.cast(correct_prediction, tf.float32))\n",
    "                tf.scalar_summary('accuracy', self.accuracy)\n",
    "                \n",
    "        # 整合所有loss，形成最终loss\n",
    "        with tf.name_scope('total_loss'):\n",
    "            self.total_loss=self.loss + self.l2_penalty*self.L2_lambda\n",
    "            tf.scalar_summary('total_loss', self.total_loss)\n",
    "            \n",
    "        # 训练操作\n",
    "        with tf.name_scope('train'):\n",
    "            self.train_step = tf.train.AdamOptimizer(self.learning_rate).minimize(self.total_loss)\n",
    "\n",
    "        # 洗牌功能\n",
    "    def shufflelists(self,lists):\n",
    "        ri=np.random.permutation(len(lists[1]))\n",
    "        out=[]\n",
    "        for l in lists:\n",
    "            out.append(l[ri])\n",
    "        return out"
   ]
  },
  {
   "cell_type": "code",
   "execution_count": 3,
   "metadata": {
    "collapsed": true
   },
   "outputs": [],
   "source": [
    "# 准备训练数据\n",
    "inputs=[[0,0],[0,1],[1,0],[1,1]]\n",
    "outputs=[0,1,1,0]\n",
    "X=np.array(inputs).reshape((4,1,2)).astype('int16')\n",
    "Y=np.array(outputs).reshape((4,1,1)).astype('int16')"
   ]
  },
  {
   "cell_type": "code",
   "execution_count": 4,
   "metadata": {
    "collapsed": false
   },
   "outputs": [
    {
     "name": "stdout",
     "output_type": "stream",
     "text": [
      "Add dense layer: relu with drop_keep:1.0\n",
      "    2D --> 2D\n",
      "Add output layer: linear\n",
      "    2D --> 1D\n"
     ]
    }
   ],
   "source": [
    "# 生成网络实例\n",
    "ff=FNN(learning_rate=1e-3, drop_keep=1.0, Layers=1, N_hidden=[2], D_input=2, D_label=1, Task_type='regression', L2_lambda=1e-2)"
   ]
  },
  {
   "cell_type": "code",
   "execution_count": 5,
   "metadata": {
    "collapsed": false
   },
   "outputs": [],
   "source": [
    "# 加载\n",
    "sess = tf.InteractiveSession()\n",
    "tf.initialize_all_variables().run()\n",
    "merged = tf.merge_all_summaries()\n",
    "train_writer = tf.train.SummaryWriter('log' + '/train',sess.graph)"
   ]
  },
  {
   "cell_type": "code",
   "execution_count": 6,
   "metadata": {
    "collapsed": false
   },
   "outputs": [
    {
     "name": "stdout",
     "output_type": "stream",
     "text": [
      "W_0:\n",
      "[[-0.11052012  0.33037376]\n",
      " [ 0.35867608  1.47092748]]\n",
      "W_1:\n",
      "[[ 0.38909066]\n",
      " [-0.59890509]]\n"
     ]
    },
    {
     "data": {
      "text/plain": [
       "<matplotlib.text.Annotation at 0x7f830fab9d68>"
      ]
     },
     "execution_count": 6,
     "metadata": {},
     "output_type": "execute_result"
    },
    {
     "data": {
      "image/png": "[encoded data removed]",
      "text/plain": [
       "<matplotlib.figure.Figure at 0x7f839054d198>"
      ]
     },
     "metadata": {},
     "output_type": "display_data"
    }
   ],
   "source": [
    "# 训练前的权重\n",
    "\n",
    "\n",
    "W0=sess.run(ff.W[0])\n",
    "W1=sess.run(ff.W[1])\n",
    "print('W_0:\\n%s' %sess.run(ff.W[0]))\n",
    "print('W_1:\\n%s' %sess.run(ff.W[1]))\n",
    "\n",
    "plt.scatter([1,1,5],[1,3,2],color=['red','red','blue'],s=200,alpha=0.4,marker='o')\n",
    "plt.scatter([3,3],[1,3],color=['green','green'],s=200,alpha=0.4,marker='o')\n",
    "\n",
    "plt.plot([1,3],[1,1],color='orange',linewidth=abs(W0[0,0]))\n",
    "plt.annotate('%0.2f' %W0[0,0],xy=(2, 1.0))\n",
    "\n",
    "plt.plot([1,3],[3,1],color='blue',linewidth=abs(W0[1,0]))\n",
    "plt.annotate('%0.2f' %W0[1,0],xy=(1.5, 1.5))\n",
    "\n",
    "plt.plot([1,3],[1,3],color='blue',linewidth=abs(W0[0,1]))\n",
    "plt.annotate('%0.2f' %W0[0,1],xy=(1.5, 2.5))\n",
    "\n",
    "plt.plot([1,3],[3,3],color='orange',linewidth=abs(W0[1,1]))\n",
    "plt.annotate('%0.2f' %W0[1,1],xy=(2, 3))\n",
    "\n",
    "plt.plot([3,5],[1,2],color='blue',linewidth=abs(W1[0]))\n",
    "plt.annotate('%0.2f' %W1[0],xy=(4, 1.5))\n",
    "\n",
    "plt.plot([3,5],[3,2],color='blue',linewidth=abs(W1[1]))\n",
    "plt.annotate('%0.2f' %W1[1],xy=(4, 2.5))"
   ]
  },
  {
   "cell_type": "code",
   "execution_count": 7,
   "metadata": {
    "collapsed": false
   },
   "outputs": [
    {
     "name": "stdout",
     "output_type": "stream",
     "text": [
      "[[ 0.07901856]\n",
      " [-0.66236991]\n",
      " [-0.15775305]\n",
      " [-0.90323484]]\n"
     ]
    },
    {
     "data": {
      "text/plain": [
       "<matplotlib.collections.PathCollection at 0x7f830fa55eb8>"
      ]
     },
     "execution_count": 7,
     "metadata": {},
     "output_type": "execute_result"
    },
    {
     "data": {
      "image/png": "[encoded data removed]",
      "text/plain": [
       "<matplotlib.figure.Figure at 0x7f83945866d8>"
      ]
     },
     "metadata": {},
     "output_type": "display_data"
    }
   ],
   "source": [
    "# 训练前的输出\n",
    "pY=sess.run(ff.output,feed_dict={ff.inputs:X.reshape((4,2)),ff.drop_keep_rate:1.0})\n",
    "print(pY)\n",
    "plt.scatter([0,1,2,3],pY,color=['red','green','blue','black'],s=25,alpha=0.4,marker='o')"
   ]
  },
  {
   "cell_type": "code",
   "execution_count": 8,
   "metadata": {
    "collapsed": false
   },
   "outputs": [
    {
     "name": "stdout",
     "output_type": "stream",
     "text": [
      "[[ 0.1         0.1       ]\n",
      " [ 0.45867607  1.5709275 ]\n",
      " [ 0.          0.43037376]\n",
      " [ 0.34815595  1.90130126]]\n"
     ]
    },
    {
     "data": {
      "text/plain": [
       "<matplotlib.collections.PathCollection at 0x7f830f767588>"
      ]
     },
     "execution_count": 8,
     "metadata": {},
     "output_type": "execute_result"
    },
    {
     "data": {
      "image/png": "[encoded data removed]",
      "text/plain": [
       "<matplotlib.figure.Figure at 0x7f8311e419b0>"
      ]
     },
     "metadata": {},
     "output_type": "display_data"
    }
   ],
   "source": [
    "# 训练前隐藏层的输出\n",
    "pY=sess.run(ff.hid_layers[0],feed_dict={ff.inputs:X.reshape((4,2)),ff.drop_keep_rate:1.0})\n",
    "print(pY)\n",
    "plt.scatter(pY[:,0],pY[:,1],color=['red','green','blue','black'],s=25,alpha=0.4,marker='o')"
   ]
  },
  {
   "cell_type": "code",
   "execution_count": 9,
   "metadata": {
    "collapsed": true
   },
   "outputs": [],
   "source": [
    "# 训练并记录\n",
    "k=0.0\n",
    "for i in range(10000):\n",
    "    k+=1\n",
    "    summary, _ = sess.run([merged,ff.train_step],feed_dict={ff.inputs:X.reshape((4,2)),ff.labels:Y.reshape((4,1)),ff.drop_keep_rate:1.0})\n",
    "    train_writer.add_summary(summary, k)"
   ]
  },
  {
   "cell_type": "code",
   "execution_count": 10,
   "metadata": {
    "collapsed": false
   },
   "outputs": [
    {
     "name": "stdout",
     "output_type": "stream",
     "text": [
      "W_0:\n",
      "[[ 0.34622031  0.66672254]\n",
      " [ 0.346185    0.66691518]]\n",
      "W_1:\n",
      "[[ 2.82525826]\n",
      " [-2.94111133]]\n"
     ]
    },
    {
     "data": {
      "text/plain": [
       "<matplotlib.text.Annotation at 0x7f83086c6c50>"
      ]
     },
     "execution_count": 10,
     "metadata": {},
     "output_type": "execute_result"
    },
    {
     "data": {
      "image/png": "[encoded data removed]",
      "text/plain": [
       "<matplotlib.figure.Figure at 0x7f830f794748>"
      ]
     },
     "metadata": {},
     "output_type": "display_data"
    }
   ],
   "source": [
    "# 训练后的权重\n",
    "\n",
    "W0=sess.run(ff.W[0])\n",
    "W1=sess.run(ff.W[1])\n",
    "print('W_0:\\n%s' %sess.run(ff.W[0]))\n",
    "print('W_1:\\n%s' %sess.run(ff.W[1]))\n",
    "\n",
    "plt.scatter([1,1,5],[1,3,2],color=['red','red','blue'],s=200,alpha=0.4,marker='o')\n",
    "plt.scatter([3,3],[1,3],color=['green','green'],s=200,alpha=0.4,marker='o')\n",
    "\n",
    "plt.plot([1,3],[1,1],color='orange',linewidth=abs(W0[0,0]))\n",
    "plt.annotate('%0.2f' %W0[0,0],xy=(2, 1.0))\n",
    "\n",
    "plt.plot([1,3],[3,1],color='blue',linewidth=abs(W0[1,0]))\n",
    "plt.annotate('%0.2f' %W0[1,0],xy=(1.5, 1.5))\n",
    "\n",
    "plt.plot([1,3],[1,3],color='blue',linewidth=abs(W0[0,1]))\n",
    "plt.annotate('%0.2f' %W0[0,1],xy=(1.5, 2.5))\n",
    "\n",
    "plt.plot([1,3],[3,3],color='orange',linewidth=abs(W0[1,1]))\n",
    "plt.annotate('%0.2f' %W0[1,1],xy=(2, 3))\n",
    "\n",
    "plt.plot([3,5],[1,2],color='blue',linewidth=abs(W1[0]))\n",
    "plt.annotate('%0.2f' %W1[0],xy=(4, 1.5))\n",
    "\n",
    "plt.plot([3,5],[3,2],color='blue',linewidth=abs(W1[1]))\n",
    "plt.annotate('%0.2f' %W1[1],xy=(4, 2.5))"
   ]
  },
  {
   "cell_type": "code",
   "execution_count": 11,
   "metadata": {
    "collapsed": false
   },
   "outputs": [
    {
     "name": "stdout",
     "output_type": "stream",
     "text": [
      "[[ 0.01215777]\n",
      " [ 0.99000674]\n",
      " [ 0.99031949]\n",
      " [ 0.00726338]]\n"
     ]
    },
    {
     "data": {
      "text/plain": [
       "<matplotlib.collections.PathCollection at 0x7f83086a43c8>"
      ]
     },
     "execution_count": 11,
     "metadata": {},
     "output_type": "execute_result"
    },
    {
     "data": {
      "image/png": "[encoded data removed]",
      "text/plain": [
       "<matplotlib.figure.Figure at 0x7f8311494b38>"
      ]
     },
     "metadata": {},
     "output_type": "display_data"
    }
   ],
   "source": [
    "# 训练后的输出\n",
    "pY=sess.run(ff.output,feed_dict={ff.inputs:X.reshape((4,2)),ff.drop_keep_rate:1.0})\n",
    "print(pY)\n",
    "plt.scatter([0,1,2,3],pY,color=['red','green','blue','black'],s=25,alpha=0.4,marker='o')"
   ]
  },
  {
   "cell_type": "code",
   "execution_count": 12,
   "metadata": {
    "collapsed": false
   },
   "outputs": [
    {
     "name": "stdout",
     "output_type": "stream",
     "text": [
      "[[  2.77472078e-04   0.00000000e+00]\n",
      " [  3.46462458e-01   7.24196434e-05]\n",
      " [  3.46497774e-01   0.00000000e+00]\n",
      " [  6.92682803e-01   6.66794956e-01]]\n"
     ]
    },
    {
     "data": {
      "text/plain": [
       "<matplotlib.collections.PathCollection at 0x7f83085fb630>"
      ]
     },
     "execution_count": 12,
     "metadata": {},
     "output_type": "execute_result"
    },
    {
     "data": {
      "image/png": "[encoded data removed]",
      "text/plain": [
       "<matplotlib.figure.Figure at 0x7f8311ccdeb8>"
      ]
     },
     "metadata": {},
     "output_type": "display_data"
    }
   ],
   "source": [
    "# 训练后隐藏层的输出\n",
    "pY=sess.run(ff.hid_layers[0],feed_dict={ff.inputs:X.reshape((4,2)),ff.drop_keep_rate:1.0})\n",
    "\n",
    "print(pY)\n",
    "plt.scatter(pY[:,0],pY[:,1],color=['red','green','blue','black'],s=25,alpha=0.4,marker='o')"
   ]
  },
  {
   "cell_type": "code",
   "execution_count": 13,
   "metadata": {
    "collapsed": false
   },
   "outputs": [
    {
     "data": {
      "text/plain": [
       "[array([[-0.82895017,  0.82891428],\n",
       "        [ 0.82915729, -0.82918972]], dtype=float32), array([[ 1.17231631],\n",
       "        [ 1.1722393 ]], dtype=float32), array([ 0.,  0.], dtype=float32), array([ 0.], dtype=float32)]"
      ]
     },
     "execution_count": 13,
     "metadata": {},
     "output_type": "execute_result"
    }
   ],
   "source": [
    "# 该操作可以用于读取已经训练好的权重W和b\n",
    "# 每层W想要读取的值\n",
    "W_0=np.array([[-0.82895017,0.82891428],[ 0.82915729,-0.82918972]],dtype='float32')\n",
    "W_1=np.array([[ 1.17231631],[ 1.1722393 ]],dtype='float32')\n",
    "# 每层b想要读取的值\n",
    "b_0=np.array([0,0],dtype='float32')\n",
    "b_1=np.array([0],dtype='float32')\n",
    "# 读取ops\n",
    "reload1=tf.assign(ff.W[0],W_0)\n",
    "reload2=tf.assign(ff.W[1],W_1)\n",
    "reload3=tf.assign(ff.b[0],b_0)\n",
    "reload4=tf.assign(ff.b[1],b_1)\n",
    "# 执行ops\n",
    "sess.run([reload1,reload2,reload3,reload4])"
   ]
  }
 ],
 "metadata": {
  "kernelspec": {
   "display_name": "Python 3",
   "language": "python",
   "name": "python3"
  },
  "language_info": {
   "codemirror_mode": {
    "name": "ipython",
    "version": 3
   },
   "file_extension": ".py",
   "mimetype": "text/x-python",
   "name": "python",
   "nbconvert_exporter": "python",
   "pygments_lexer": "ipython3",
   "version": "3.5.2"
  }
 },
 "nbformat": 4,
 "nbformat_minor": 1
}
