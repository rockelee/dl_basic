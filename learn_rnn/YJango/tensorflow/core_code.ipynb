{
 "cells": [
  {
   "cell_type": "code",
   "execution_count": 1,
   "metadata": {
    "collapsed": true
   },
   "outputs": [],
   "source": [
    "import tensorflow as tf\n",
    "import numpy as np"
   ]
  },
  {
   "cell_type": "code",
   "execution_count": 2,
   "metadata": {
    "collapsed": false
   },
   "outputs": [],
   "source": [
    "#构建网络\n",
    "D_input = 2\n",
    "D_label = 1\n",
    "D_hidden = 2\n",
    "lr=1e-4\n",
    "\n",
    "x = tf.placeholder(tf.float32, [None, D_input], name=\"x\")\n",
    "t = tf.placeholder(tf.float32, [None, D_label], name=\"t\")\n",
    "    \n",
    "W_h1 = tf.Variable(tf.truncated_normal([D_input, D_hidden], stddev=0.1), name=\"W_h\")\n",
    "b_h1 = tf.Variable(tf.constant(0.1, shape=[D_hidden]), name=\"b_h\")\n",
    "pre_act_h1 = tf.matmul(x, W_h1) + b_h1\n",
    "act_h1 = tf.nn.relu(pre_act_h1, name='act_h')\n",
    "    \n",
    "W_o = tf.Variable(tf.truncated_normal([D_hidden, D_label], stddev=0.1), name=\"W_o\")\n",
    "b_o = tf.Variable(tf.constant(0.1, shape=[D_label]), name=\"b_o\")\n",
    "pre_act_o = tf.matmul(act_h1, W_o) + b_o\n",
    "y = tf.nn.relu(pre_act_o, name='act_y')\n",
    "    \n",
    "loss=tf.reduce_mean((y-t)**2)\n",
    "    \n",
    "train_step = tf.train.AdamOptimizer(lr).minimize(loss)"
   ]
  },
  {
   "cell_type": "code",
   "execution_count": 3,
   "metadata": {
    "collapsed": false
   },
   "outputs": [],
   "source": [
    "#生成数据\n",
    "X=[[0,0],[0,1],[1,0],[1,1]]\n",
    "Y=[[0],[1],[1],[0]]\n",
    "X=np.array(X).astype('int16')\n",
    "Y=np.array(Y).astype('int16')"
   ]
  },
  {
   "cell_type": "code",
   "execution_count": 4,
   "metadata": {
    "collapsed": true
   },
   "outputs": [],
   "source": [
    "#加载\n",
    "sess = tf.InteractiveSession()\n",
    "tf.initialize_all_variables().run()"
   ]
  },
  {
   "cell_type": "code",
   "execution_count": null,
   "metadata": {
    "collapsed": true
   },
   "outputs": [],
   "source": [
    "#训练\n",
    "for i in range(20000):\n",
    "    sess.run(train_step,feed_dict={x:X,t:Y} )"
   ]
  },
  {
   "cell_type": "code",
   "execution_count": 7,
   "metadata": {
    "collapsed": false
   },
   "outputs": [
    {
     "data": {
      "text/plain": [
       "array([[ 0.],\n",
       "       [ 1.],\n",
       "       [ 1.],\n",
       "       [ 0.]], dtype=float32)"
      ]
     },
     "execution_count": 7,
     "metadata": {},
     "output_type": "execute_result"
    }
   ],
   "source": [
    "#计算预测值\n",
    "sess.run(y,feed_dict={x:X})"
   ]
  },
  {
   "cell_type": "code",
   "execution_count": 11,
   "metadata": {
    "collapsed": false
   },
   "outputs": [
    {
     "data": {
      "text/plain": [
       "array([[ 1.10531139,  1.00508392],\n",
       "       [ 0.55236477,  0.        ],\n",
       "       [ 0.55236477,  0.        ],\n",
       "       [ 0.        ,  0.        ]], dtype=float32)"
      ]
     },
     "execution_count": 11,
     "metadata": {},
     "output_type": "execute_result"
    }
   ],
   "source": [
    "#查看隐藏层的输出\n",
    "sess.run(act_h1,feed_dict={x:X})"
   ]
  }
 ],
 "metadata": {
  "kernelspec": {
   "display_name": "Python 2",
   "language": "python",
   "name": "python2"
  },
  "language_info": {
   "codemirror_mode": {
    "name": "ipython",
    "version": 2
   },
   "file_extension": ".py",
   "mimetype": "text/x-python",
   "name": "python",
   "nbconvert_exporter": "python",
   "pygments_lexer": "ipython2",
   "version": "2.7.12"
  }
 },
 "nbformat": 4,
 "nbformat_minor": 1
}
