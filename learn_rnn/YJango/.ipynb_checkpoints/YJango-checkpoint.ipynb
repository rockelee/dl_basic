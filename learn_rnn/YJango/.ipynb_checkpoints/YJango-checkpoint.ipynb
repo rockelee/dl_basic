{
 "cells": [
  {
   "cell_type": "code",
   "execution_count": 1,
   "metadata": {
    "collapsed": false
   },
   "outputs": [],
   "source": [
    "%matplotlib inline\n",
    "import numpy as np\n",
    "import pandas as pd\n",
    "from sklearn.decomposition import NMF\n",
    "import matplotlib.pyplot as plt\n",
    "import tensorflow as tf"
   ]
  },
  {
   "cell_type": "code",
   "execution_count": 2,
   "metadata": {
    "collapsed": false
   },
   "outputs": [],
   "source": [
    "import os\n",
    "os.environ['CUDA_VISIBLE_DEVICES'] = '0'\n",
    "gpu_options = tf.GPUOptions(per_process_gpu_memory_fraction=0.5)"
   ]
  },
  {
   "cell_type": "code",
   "execution_count": 30,
   "metadata": {
    "collapsed": false,
    "scrolled": true
   },
   "outputs": [
    {
     "name": "stdout",
     "output_type": "stream",
     "text": [
      "[array([[ 22.,  28.],\n",
      "       [ 49.,  64.]], dtype=float32), array([ 1.,  2.], dtype=float32), array([[ 23.,  30.],\n",
      "       [ 50.,  66.]], dtype=float32), 42.25]\n"
     ]
    }
   ],
   "source": [
    "# Creates a graph.\n",
    "a = tf.constant([1.0, 2.0, 3.0, 4.0, 5.0, 6.0], shape=[2, 3], name='a')\n",
    "b = tf.constant([1.0, 2.0, 3.0, 4.0, 5.0, 6.0], shape=[3, 2], name='b')\n",
    "c = tf.matmul(a, b)\n",
    "d = tf.constant([1.0,2.0], name='d')\n",
    "e = c+d\n",
    "f = tf.reduce_mean(e)\n",
    "# Creates a session with log_device_placement set to True.\n",
    "sess = tf.Session(config=tf.ConfigProto(gpu_options=gpu_options))\n",
    "# Runs the op.\n",
    "print(sess.run([c,d,e,f]))\n",
    "sess.close()"
   ]
  },
  {
   "cell_type": "code",
   "execution_count": null,
   "metadata": {
    "collapsed": true
   },
   "outputs": [],
   "source": [
    "###############################################################################################################"
   ]
  },
  {
   "cell_type": "code",
   "execution_count": null,
   "metadata": {
    "collapsed": true
   },
   "outputs": [],
   "source": [
    "#构建网络\n",
    "D_input = 2\n",
    "D_label = 1\n",
    "D_hidden = 2\n",
    "lr=1e-4\n",
    "\n",
    "x = tf.placeholder(tf.float32, [None, D_input], name=\"x\")\n",
    "t = tf.placeholder(tf.float32, [None, D_label], name=\"t\")\n",
    "    \n",
    "W_h1 = tf.Variable(tf.truncated_normal([D_input, D_hidden], stddev=0.1), name=\"W_h\")\n",
    "b_h1 = tf.Variable(tf.constant(0.1, shape=[D_hidden]), name=\"b_h\")\n",
    "pre_act_h1 = tf.matmul(x, W_h1) + b_h1\n",
    "act_h1 = tf.nn.relu(pre_act_h1, name='act_h')\n",
    "    \n",
    "W_o = tf.Variable(tf.truncated_normal([D_hidden, D_label], stddev=0.1), name=\"W_o\")\n",
    "b_o = tf.Variable(tf.constant(0.1, shape=[D_label]), name=\"b_o\")\n",
    "pre_act_o = tf.matmul(act_h1, W_o) + b_o\n",
    "y = tf.nn.relu(pre_act_o, name='act_y')\n",
    "    \n",
    "loss=tf.reduce_mean((y-t)**2)\n",
    "    \n",
    "train_step = tf.train.AdamOptimizer(lr).minimize(loss)"
   ]
  },
  {
   "cell_type": "code",
   "execution_count": null,
   "metadata": {
    "collapsed": false
   },
   "outputs": [],
   "source": [
    "#X和Y是4个数据的矩阵，X[i]和Y[i]的值始终对应。\n",
    "X=[[0,0],[0,1],[1,0],[1,1]]\n",
    "Y=[[0],[1],[1],[0]]\n",
    "X=np.array(X).astype('int16')\n",
    "Y=np.array(Y).astype('int16')"
   ]
  },
  {
   "cell_type": "code",
   "execution_count": null,
   "metadata": {
    "collapsed": false
   },
   "outputs": [],
   "source": [
    "#创建session\n",
    "sess = tf.InteractiveSession(config=tf.ConfigProto(gpu_options=gpu_options))\n",
    "#初始化权重\n",
    "tf.initialize_all_variables().run()"
   ]
  },
  {
   "cell_type": "code",
   "execution_count": null,
   "metadata": {
    "collapsed": true
   },
   "outputs": [],
   "source": [
    "# bgd\n",
    "T=10000 #训练几次\n",
    "for i in range(T):\n",
    "    sess.run(train_step,feed_dict={x:X,t:Y})"
   ]
  },
  {
   "cell_type": "code",
   "execution_count": null,
   "metadata": {
    "collapsed": false
   },
   "outputs": [],
   "source": [
    "# sgd\n",
    "T=10000 #训练几epoch\n",
    "for i in range(T):\n",
    "    for j in range(X.shape[0]): #X.shape[0]表示样本个数\n",
    "        sess.run(train_step,feed_dict={x:X[j].reshape((1, -1)),t:Y[j].reshape((1,-1))})"
   ]
  },
  {
   "cell_type": "code",
   "execution_count": null,
   "metadata": {
    "collapsed": false
   },
   "outputs": [],
   "source": [
    "# mini-batch gd\n",
    "T=10000 #训练几epoch\n",
    "b_size=2 #batch大小\n",
    "for i in range(T):\n",
    "    b_idx=0 #batch计数\n",
    "    while b_idx<=X.shape[0]:\n",
    "        sess.run(train_step,feed_dict={x:X[b_idx:b_idx+b_size],t:Y[b_idx:b_idx+b_size]})\n",
    "        b_idx+=b_size #更新batch计数"
   ]
  },
  {
   "cell_type": "code",
   "execution_count": null,
   "metadata": {
    "collapsed": true
   },
   "outputs": [],
   "source": [
    "#shuffle函数\n",
    "def shufflelists(lists): #多个序列以相同顺序打乱\n",
    "    ri=np.random.permutation(len(lists[1]))\n",
    "    out=[]\n",
    "    for l in lists:\n",
    "        out.append(l[ri])\n",
    "    return out"
   ]
  },
  {
   "cell_type": "code",
   "execution_count": null,
   "metadata": {
    "collapsed": false,
    "scrolled": true
   },
   "outputs": [],
   "source": [
    "# mini-batch gd with shuffle\n",
    "T=10000 #训练几epoch\n",
    "b_size=2 #batch大小\n",
    "for i in range(T):\n",
    "    #每次epoch都打乱顺序\n",
    "    X,Y = shufflelists([X,Y])\n",
    "    b_idx=0 #batch计数\n",
    "    while b_idx<=X.shape[0]:\n",
    "        sess.run(train_step,feed_dict={x:X[b_idx:b_idx+b_size],t:Y[b_idx:b_idx+b_size]})\n",
    "        b_idx+=b_size #更新batch计数"
   ]
  },
  {
   "cell_type": "code",
   "execution_count": null,
   "metadata": {
    "collapsed": true
   },
   "outputs": [],
   "source": [
    "#########################################################################################################"
   ]
  },
  {
   "cell_type": "code",
   "execution_count": null,
   "metadata": {
    "collapsed": true
   },
   "outputs": [],
   "source": [
    "tf.set_random_seed(55)\n",
    "np.random.seed(55)"
   ]
  },
  {
   "cell_type": "code",
   "execution_count": null,
   "metadata": {
    "collapsed": false
   },
   "outputs": [],
   "source": [
    "class FNN(object):\n",
    "    \"\"\"Build a general FeedForward neural network\n",
    "    Parameters\n",
    "    ----------\n",
    "    learning_rate : float\n",
    "    drop_out : float\n",
    "    Layers : list\n",
    "        The number of layers\n",
    "    N_hidden : list\n",
    "        The numbers of nodes in layers\n",
    "    D_input : int\n",
    "        Input dimension\n",
    "    D_label : int\n",
    "        Label dimension\n",
    "    Task_type : string\n",
    "        'regression' or 'classification'\n",
    "    L2_lambda : float\n",
    "    Auther : YJango; 2016/11/25\n",
    "    \"\"\"\n",
    "    def __init__(self, learning_rate, drop_keep, Layers, N_hidden, D_input, D_label, Task_type='regression', L2_lambda=0.0):\n",
    "        \n",
    "        #var\n",
    "        self.learning_rate = learning_rate\n",
    "        self.drop_keep = np.array(drop_keep).astype(np.float32)\n",
    "        self.Layers = Layers\n",
    "        self.N_hidden = N_hidden\n",
    "        self.D_input = D_input\n",
    "        self.D_label = D_label\n",
    "        # 类型控制loss函数的选择\n",
    "        self.Task_type = Task_type\n",
    "        # l2 regularization的惩罚强弱，过高会使得输出都拉向0\n",
    "        self.L2_lambda = L2_lambda\n",
    "        # 用于存放所累积的每层l2 regularization\n",
    "        self.l2_penalty = tf.constant(0.0)\n",
    "        \n",
    "        # 用于生成tensorflow缩放图的,括号里起名字\n",
    "        with tf.name_scope('Input'):\n",
    "            self.inputs = tf.placeholder(tf.float32, [None, D_input], name=\"inputs\")\n",
    "            print (\"self.inputs : \", self.inputs.name)\n",
    "        with tf.name_scope('Label'):\n",
    "            self.labels = tf.placeholder(tf.float32, [None, D_label], name=\"labels\")\n",
    "        with tf.name_scope('keep_rate'):\n",
    "            self.drop_keep_rate = tf.placeholder(tf.float32, name=\"dropout_keep\")\n",
    "        \n",
    "\n",
    "        # 初始化的时候直接生成，build方法是后面会建立的\n",
    "        self.build('F')\n",
    "        \n",
    "    def weight_init(self,shape):\n",
    "        # shape : list [in_dim, out_dim]\n",
    "        # can change initialization here\n",
    "        initial = tf.random_uniform(shape,minval=-np.sqrt(5)*np.sqrt(1.0/shape[0]), maxval=np.sqrt(5)*np.sqrt(1.0/shape[0]))\n",
    "        return tf.Variable(initial)\n",
    "\n",
    "    def bias_init(self,shape):\n",
    "        # can change initialization here\n",
    "        initial = tf.constant(0.1, shape=shape)\n",
    "        return tf.Variable(initial)\n",
    "    \n",
    "    def variable_summaries(self, var, name):\n",
    "        with tf.name_scope(name+'_summaries'):\n",
    "            mean = tf.reduce_mean(var)\n",
    "            tf.scalar_summary('mean/' + name, mean)\n",
    "        with tf.name_scope(name+'_stddev'):\n",
    "            stddev = tf.sqrt(tf.reduce_mean(tf.square(var - mean)))\n",
    "        # 记录每次训练后变量的数值变化\n",
    "        tf.scalar_summary('_stddev/' + name, stddev)\n",
    "        tf.scalar_summary('_max/' + name, tf.reduce_max(var))\n",
    "        tf.scalar_summary('_min/' + name, tf.reduce_min(var))\n",
    "        tf.histogram_summary(name, var)\n",
    "\n",
    "    def layer(self,in_tensor, in_dim, out_dim, layer_name, act=tf.nn.relu):\n",
    "        with tf.name_scope(layer_name):\n",
    "            with tf.name_scope(layer_name+'_weights'):\n",
    "                # 用所建立的weight_init函数进行初始化。\n",
    "                weights = self.weight_init([in_dim, out_dim])\n",
    "                print (\"weights.name : \", weights.name)\n",
    "                # 存放着每一个权重W\n",
    "                self.W.append(weights)\n",
    "                # 对权重进行统计\n",
    "                self.variable_summaries(weights, layer_name + '/weights')\n",
    "            with tf.name_scope(layer_name+'_biases'):\n",
    "                biases = self.bias_init([out_dim])\n",
    "                # 存放着每一个偏移b\n",
    "                self.b.append(biases)\n",
    "                self.variable_summaries(biases, layer_name + '/biases')\n",
    "            with tf.name_scope(layer_name+'_Wx_plus_b'):\n",
    "                # 计算Wx+b\n",
    "                pre_activate = tf.matmul(in_tensor, weights) + biases\n",
    "                # 记录直方图\n",
    "                tf.histogram_summary(layer_name + '/pre_activations', pre_activate)\n",
    "            # 计算a(Wx+b)\n",
    "            activations = act(pre_activate, name='activation')\n",
    "            tf.histogram_summary(layer_name + '/activations', activations)\n",
    "        # 最终返回该层的输出，以及权重W的L2\n",
    "        return activations, tf.nn.l2_loss(weights)\n",
    "\n",
    "    def drop_layer(self,in_tensor):\n",
    "            #tf.scalar_summary('dropout_keep', self.drop_keep_rate)\n",
    "        dropped = tf.nn.dropout(in_tensor, self.drop_keep_rate)\n",
    "        return dropped\n",
    "\n",
    "    def build(self, prefix):\n",
    "        # 建立网络 \n",
    "        # incoming也代表当前tensor的流动位置\n",
    "        incoming = self.inputs\n",
    "        # 如果没有隐藏层\n",
    "        if self.Layers!=0:\n",
    "            layer_nodes = [self.D_input] + self.N_hidden\n",
    "        else:\n",
    "            layer_nodes = [self.D_input]\n",
    "        \n",
    "        # hid_layers用于存储所有隐藏层的输出\n",
    "        self.hid_layers=[]\n",
    "        # W用于存储所有层的权重\n",
    "        self.W=[]\n",
    "        # b用于存储所有层的偏移\n",
    "        self.b=[]\n",
    "        # total_l2用于存储所有层的L2\n",
    "        self.total_l2=[]\n",
    "        \n",
    "        # 开始叠加隐藏层。这跟千层饼没什么区别。\n",
    "        for l in range(self.Layers):\n",
    "            # 使用刚才编写的函数来建立层，并更新incoming的位置\n",
    "            incoming,l2_loss= self.layer(incoming,layer_nodes[l],layer_nodes[l+1],prefix+'_hid_'+str(l+1),act=tf.nn.relu)\n",
    "            # 累计l2\n",
    "            self.total_l2.append(l2_loss)\n",
    "            # 输出一些信息，让我们知道网络在建造中做了什么\n",
    "            print('Add dense layer: relu with drop_keep:%s' %self.drop_keep)\n",
    "            print('    %sD --> %sD' %(layer_nodes[l],layer_nodes[l+1]))\n",
    "            # 存储所有隐藏层的输出\n",
    "            self.hid_layers.append(incoming)\n",
    "            # 加入dropout层\n",
    "            incoming = self.drop_layer(incoming)\n",
    "            \n",
    "        # 输出层的建立。输出层需要特别对待的原因是输出层的activation function要根据任务来变。\n",
    "        # 回归任务的话，下面用的是tf.identity，也就是没有activation function\n",
    "        if self.Task_type=='regression':\n",
    "            out_act=tf.identity\n",
    "        else:\n",
    "            # 分类任务使用softmax来拟合概率\n",
    "            out_act=tf.nn.softmax\n",
    "        self.output,l2_loss= self.layer(incoming,layer_nodes[-1],self.D_label, layer_name='output',act=out_act)\n",
    "        print('Add output layer: linear')\n",
    "        print('    %sD --> %sD' %(layer_nodes[-1],self.D_label))\n",
    "        \n",
    "        # l2 loss的缩放图\n",
    "        with tf.name_scope('total_l2'):\n",
    "            for l2 in self.total_l2:\n",
    "                self.l2_penalty+=l2\n",
    "            tf.scalar_summary('l2_penalty', self.l2_penalty)\n",
    "            \n",
    "        # 不同任务的loss\n",
    "        # 若为回归，则loss是用于判断所有预测值和实际值差别的函数。\n",
    "        if self.Task_type=='regression':\n",
    "            with tf.name_scope('SSE'):\n",
    "                self.loss=tf.reduce_mean((self.output-self.labels)**2)\n",
    "                tf.scalar_summary('loss', self.loss)\n",
    "        else:\n",
    "            # 若为分类，cross entropy的loss function\n",
    "            entropy = tf.nn.softmax_cross_entropy_with_logits(logits=self.output, labels=self.labels)\n",
    "            with tf.name_scope('cross_entropy'):\n",
    "                self.loss = tf.reduce_mean(entropy)\n",
    "                tf.scalar_summary('loss', self.loss)\n",
    "            with tf.name_scope('accuracy'):\n",
    "                correct_prediction = tf.equal(tf.argmax(self.output, 1), tf.argmax(self.labels, 1))\n",
    "                self.accuracy = tf.reduce_mean(tf.cast(correct_prediction, tf.float32))\n",
    "                tf.scalar_summary('accuracy', self.accuracy)\n",
    "                \n",
    "        # 整合所有loss，形成最终loss\n",
    "        with tf.name_scope('total_loss'):\n",
    "            self.total_loss=self.loss + self.l2_penalty*self.L2_lambda\n",
    "            tf.scalar_summary('total_loss', self.total_loss)\n",
    "            \n",
    "        # 训练操作\n",
    "        with tf.name_scope('train'):\n",
    "            self.train_step = tf.train.AdamOptimizer(self.learning_rate).minimize(self.total_loss)\n",
    "\n",
    "        # 洗牌功能\n",
    "    def shufflelists(self,lists):\n",
    "        ri=np.random.permutation(len(lists[1]))\n",
    "        out=[]\n",
    "        for l in lists:\n",
    "            out.append(l[ri])\n",
    "        return out"
   ]
  },
  {
   "cell_type": "code",
   "execution_count": null,
   "metadata": {
    "collapsed": true
   },
   "outputs": [],
   "source": [
    "# 准备训练数据\n",
    "inputs=[[0,0],[0,1],[1,0],[1,1]]\n",
    "outputs=[0,1,1,0]\n",
    "X=np.array(inputs).reshape((4,1,2)).astype('int16')\n",
    "Y=np.array(outputs).reshape((4,1,1)).astype('int16')"
   ]
  },
  {
   "cell_type": "code",
   "execution_count": null,
   "metadata": {
    "collapsed": false
   },
   "outputs": [],
   "source": [
    "# 生成网络实例\n",
    "ff=FNN(learning_rate=1e-3, drop_keep=1.0, Layers=1, N_hidden=[2], D_input=2, D_label=1, Task_type='regression', L2_lambda=1e-2)"
   ]
  },
  {
   "cell_type": "code",
   "execution_count": null,
   "metadata": {
    "collapsed": false
   },
   "outputs": [],
   "source": [
    "# 加载\n",
    "sess = tf.InteractiveSession()\n",
    "tf.initialize_all_variables().run()\n",
    "merged = tf.merge_all_summaries()\n",
    "train_writer = tf.train.SummaryWriter('log' + '/train',sess.graph)"
   ]
  },
  {
   "cell_type": "code",
   "execution_count": null,
   "metadata": {
    "collapsed": true
   },
   "outputs": [],
   "source": [
    "# 训练前的权重\n",
    "\n",
    "W0=sess.run(ff.W[0])\n",
    "W1=sess.run(ff.W[1])\n",
    "print('W_0:\\n%s' %sess.run(ff.W[0]))\n",
    "print('W_1:\\n%s' %sess.run(ff.W[1]))\n",
    "\n",
    "plt.scatter([1,1,5],[1,3,2],color=['red','red','blue'],s=200,alpha=0.4,marker='o')\n",
    "plt.scatter([3,3],[1,3],color=['green','green'],s=200,alpha=0.4,marker='o')\n",
    "\n",
    "plt.plot([1,3],[1,1],color='orange',linewidth=abs(W0[0,0]))\n",
    "plt.annotate('%0.2f' %W0[0,0],xy=(2, 1.0))\n",
    "\n",
    "plt.plot([1,3],[3,1],color='blue',linewidth=abs(W0[1,0]))\n",
    "plt.annotate('%0.2f' %W0[1,0],xy=(1.5, 1.5))\n",
    "\n",
    "plt.plot([1,3],[1,3],color='blue',linewidth=abs(W0[0,1]))\n",
    "plt.annotate('%0.2f' %W0[0,1],xy=(1.5, 2.5))\n",
    "\n",
    "plt.plot([1,3],[3,3],color='orange',linewidth=abs(W0[1,1]))\n",
    "plt.annotate('%0.2f' %W0[1,1],xy=(2, 3))\n",
    "\n",
    "plt.plot([3,5],[1,2],color='blue',linewidth=abs(W1[0]))\n",
    "plt.annotate('%0.2f' %W1[0],xy=(4, 1.5))\n",
    "\n",
    "plt.plot([3,5],[3,2],color='blue',linewidth=abs(W1[1]))\n",
    "plt.annotate('%0.2f' %W1[1],xy=(4, 2.5))"
   ]
  },
  {
   "cell_type": "code",
   "execution_count": null,
   "metadata": {
    "collapsed": true
   },
   "outputs": [],
   "source": [
    "# 训练前的输出\n",
    "pY=sess.run(ff.output,feed_dict={ff.inputs:X.reshape((4,2)),ff.drop_keep_rate:1.0})\n",
    "print(pY)\n",
    "plt.scatter([0,1,2,3],pY,color=['red','green','blue','black'],s=25,alpha=0.4,marker='o')"
   ]
  },
  {
   "cell_type": "code",
   "execution_count": null,
   "metadata": {
    "collapsed": true
   },
   "outputs": [],
   "source": [
    "# 训练前隐藏层的输出\n",
    "pY=sess.run(ff.hid_layers[0],feed_dict={ff.inputs:X.reshape((4,2)),ff.drop_keep_rate:1.0})\n",
    "print(pY)\n",
    "plt.scatter(pY[:,0],pY[:,1],color=['red','green','blue','black'],s=25,alpha=0.4,marker='o')"
   ]
  },
  {
   "cell_type": "code",
   "execution_count": null,
   "metadata": {
    "collapsed": false
   },
   "outputs": [],
   "source": [
    "# 训练并记录\n",
    "k=0.0\n",
    "for i in range(10000):\n",
    "    k+=1\n",
    "    summary, _ = sess.run([merged,ff.train_step],feed_dict={ff.inputs:X.reshape((4,2)),ff.labels:Y.reshape((4,1)),ff.drop_keep_rate:1.0})\n",
    "    train_writer.add_summary(summary, k)"
   ]
  },
  {
   "cell_type": "code",
   "execution_count": null,
   "metadata": {
    "collapsed": true
   },
   "outputs": [],
   "source": [
    "# 训练后的权重\n",
    "\n",
    "W0=sess.run(ff.W[0])\n",
    "W1=sess.run(ff.W[1])\n",
    "print('W_0:\\n%s' %sess.run(ff.W[0]))\n",
    "print('W_1:\\n%s' %sess.run(ff.W[1]))\n",
    "\n",
    "plt.scatter([1,1,5],[1,3,2],color=['red','red','blue'],s=200,alpha=0.4,marker='o')\n",
    "plt.scatter([3,3],[1,3],color=['green','green'],s=200,alpha=0.4,marker='o')\n",
    "\n",
    "plt.plot([1,3],[1,1],color='orange',linewidth=abs(W0[0,0]))\n",
    "plt.annotate('%0.2f' %W0[0,0],xy=(2, 1.0))\n",
    "\n",
    "plt.plot([1,3],[3,1],color='blue',linewidth=abs(W0[1,0]))\n",
    "plt.annotate('%0.2f' %W0[1,0],xy=(1.5, 1.5))\n",
    "\n",
    "plt.plot([1,3],[1,3],color='blue',linewidth=abs(W0[0,1]))\n",
    "plt.annotate('%0.2f' %W0[0,1],xy=(1.5, 2.5))\n",
    "\n",
    "plt.plot([1,3],[3,3],color='orange',linewidth=abs(W0[1,1]))\n",
    "plt.annotate('%0.2f' %W0[1,1],xy=(2, 3))\n",
    "\n",
    "plt.plot([3,5],[1,2],color='blue',linewidth=abs(W1[0]))\n",
    "plt.annotate('%0.2f' %W1[0],xy=(4, 1.5))\n",
    "\n",
    "plt.plot([3,5],[3,2],color='blue',linewidth=abs(W1[1]))\n",
    "plt.annotate('%0.2f' %W1[1],xy=(4, 2.5))"
   ]
  },
  {
   "cell_type": "code",
   "execution_count": null,
   "metadata": {
    "collapsed": true
   },
   "outputs": [],
   "source": [
    "# 训练后的输出\n",
    "pY=sess.run(ff.output,feed_dict={ff.inputs:X.reshape((4,2)),ff.drop_keep_rate:1.0})\n",
    "print(pY)\n",
    "plt.scatter([0,1,2,3],pY,color=['red','green','blue','black'],s=25,alpha=0.4,marker='o')"
   ]
  },
  {
   "cell_type": "code",
   "execution_count": null,
   "metadata": {
    "collapsed": true
   },
   "outputs": [],
   "source": [
    "# 训练后隐藏层的输出\n",
    "pY=sess.run(ff.hid_layers[0],feed_dict={ff.inputs:X.reshape((4,2)),ff.drop_keep_rate:1.0})\n",
    "print(pY)\n",
    "plt.scatter(pY[:,0],pY[:,1],color=['red','green','blue','black'],s=25,alpha=0.4,marker='o')"
   ]
  },
  {
   "cell_type": "code",
   "execution_count": null,
   "metadata": {
    "collapsed": false
   },
   "outputs": [],
   "source": [
    "# 该操作可以用于读取已经训练好的权重W和b\n",
    "# 每层W想要读取的值\n",
    "W_0=np.array([[-0.82895017,0.82891428],[ 0.82915729,-0.82918972]],dtype='float32')\n",
    "W_1=np.array([[ 1.17231631],[ 1.1722393 ]],dtype='float32')\n",
    "# 每层b想要读取的值\n",
    "b_0=np.array([0,0],dtype='float32')\n",
    "b_1=np.array([0],dtype='float32')\n",
    "# 读取ops\n",
    "reload1=tf.assign(ff.W[0],W_0)\n",
    "reload2=tf.assign(ff.W[1],W_1)\n",
    "reload3=tf.assign(ff.b[0],b_0)\n",
    "reload4=tf.assign(ff.b[1],b_1)\n",
    "# 执行ops\n",
    "sess.run([reload1,reload2,reload3,reload4])"
   ]
  },
  {
   "cell_type": "code",
   "execution_count": null,
   "metadata": {
    "collapsed": false
   },
   "outputs": [],
   "source": [
    "np.maximum(0, X.reshape((4,2)).dot(W_0) + b_0).dot(W_1) + b_1"
   ]
  },
  {
   "cell_type": "code",
   "execution_count": null,
   "metadata": {
    "collapsed": false
   },
   "outputs": [],
   "source": [
    "sess.run(ff.W[1])"
   ]
  },
  {
   "cell_type": "code",
   "execution_count": null,
   "metadata": {
    "collapsed": false
   },
   "outputs": [],
   "source": [
    "sess.run(ff.output, feed_dict={ff.inputs:X.reshape((4,2)), ff.drop_keep_rate:1.0})"
   ]
  },
  {
   "cell_type": "code",
   "execution_count": null,
   "metadata": {
    "collapsed": true
   },
   "outputs": [],
   "source": [
    "######################################################################################################"
   ]
  },
  {
   "cell_type": "code",
   "execution_count": 6,
   "metadata": {
    "collapsed": true
   },
   "outputs": [],
   "source": [
    "class FNN(object):\n",
    "    \"\"\"Build a general FeedForward neural network\n",
    "    Parameters\n",
    "    ----------\n",
    "    learning_rate : float\n",
    "    drop_out : float\n",
    "    Layers : list\n",
    "        The number of layers\n",
    "    N_hidden : list\n",
    "        The numbers of nodes in layers\n",
    "    D_input : int\n",
    "        Input dimension\n",
    "    D_label : int\n",
    "        Label dimension\n",
    "    Task_type : string\n",
    "        'regression' or 'classification'\n",
    "    L2_lambda : float\n",
    "    Auther : YJango; 2016/11/25\n",
    "    \"\"\"\n",
    "    def __init__(self, learning_rate, Layers, N_hidden, D_input, D_label, Task_type='regression', L2_lambda=0.0):\n",
    "        \n",
    "        #var\n",
    "        self.learning_rate = learning_rate\n",
    "        self.Layers = Layers\n",
    "        self.N_hidden = N_hidden\n",
    "        self.D_input = D_input\n",
    "        self.D_label = D_label\n",
    "        # 类型控制loss函数的选择\n",
    "        self.Task_type = Task_type\n",
    "        # l2 regularization的惩罚强弱，过高会使得输出都拉向0\n",
    "        self.L2_lambda = L2_lambda\n",
    "        # 用于存放所累积的每层l2 regularization\n",
    "        self.l2_penalty = tf.constant(0.0)\n",
    "        \n",
    "        # 用于生成tensorflow缩放图的,括号里起名字\n",
    "        with tf.name_scope('Input'):\n",
    "            self.inputs = tf.placeholder(tf.float32, [None, D_input], name=\"inputs\")\n",
    "        with tf.name_scope('Label'):\n",
    "            self.labels = tf.placeholder(tf.float32, [None, D_label], name=\"labels\")\n",
    "        with tf.name_scope('keep_rate'):\n",
    "            self.drop_keep_rate = tf.placeholder(tf.float32, name=\"dropout_keep\")\n",
    "        \n",
    "\n",
    "        # 初始化的时候直接生成，build方法是后面会建立的\n",
    "        self.build('F')\n",
    "        \n",
    "    def weight_init(self,shape):\n",
    "        # shape : list [in_dim, out_dim]\n",
    "        # 在这里更改初始化方法\n",
    "        # 方式1：下面的权重初始化若用ReLU激活函数，可以使用带有6个隐藏层的神经网络\n",
    "        #       若过深，则使用dropout会难以拟合。\n",
    "        #initial = tf.truncated_normal(shape, stddev=0.1)/ np.sqrt(shape[1])\n",
    "        # 方式2：下面的权重初始化若用ReLU激活函数，可以扩展到15个隐藏层以上（通常不会用那么多）\n",
    "        initial = tf.random_uniform(shape,minval=-np.sqrt(5)*np.sqrt(1.0/shape[0]), maxval=np.sqrt(5)*np.sqrt(1.0/shape[0]))\n",
    "        return tf.Variable(initial)\n",
    "\n",
    "    def bias_init(self,shape):\n",
    "        # can change initialization here\n",
    "        initial = tf.constant(0.1, shape=shape)\n",
    "        return tf.Variable(initial)\n",
    "    \n",
    "    def variable_summaries(self, var, name):\n",
    "        with tf.name_scope(name+'_summaries'):\n",
    "            mean = tf.reduce_mean(var)\n",
    "            tf.summary.scalar('mean/' + name, mean)\n",
    "        with tf.name_scope(name+'_stddev'):\n",
    "            stddev = tf.sqrt(tf.reduce_mean(tf.square(var - mean)))\n",
    "        # 记录每次训练后变量的数值变化\n",
    "        tf.summary.scalar('_stddev/' + name, stddev)\n",
    "        tf.summary.scalar('_max/' + name, tf.reduce_max(var))\n",
    "        tf.summary.scalar('_min/' + name, tf.reduce_min(var))\n",
    "        tf.summary.histogram(name, var)\n",
    "\n",
    "    def layer(self,in_tensor, in_dim, out_dim, layer_name, act=tf.nn.relu):\n",
    "        with tf.name_scope(layer_name):\n",
    "            with tf.name_scope(layer_name+'_weights'):\n",
    "                # 用所建立的weight_init函数进行初始化。\n",
    "                weights = self.weight_init([in_dim, out_dim])\n",
    "                # 存放着每一个权重W\n",
    "                self.W.append(weights)\n",
    "                # 对权重进行统计\n",
    "                self.variable_summaries(weights, layer_name + '/weights')\n",
    "            with tf.name_scope(layer_name+'_biases'):\n",
    "                biases = self.bias_init([out_dim])\n",
    "                # 存放着每一个偏移b\n",
    "                self.b.append(biases)\n",
    "                self.variable_summaries(biases, layer_name + '/biases')\n",
    "            with tf.name_scope(layer_name+'_Wx_plus_b'):\n",
    "                # 计算Wx+b\n",
    "                pre_activate = tf.matmul(in_tensor, weights) + biases\n",
    "                # 记录直方图\n",
    "                tf.summary.histogram(layer_name + '/pre_activations', pre_activate)\n",
    "            # 计算a(Wx+b)\n",
    "            activations = act(pre_activate, name='activation')\n",
    "            tf.summary.histogram(layer_name + '/activations', activations)\n",
    "        # 最终返回该层的输出，以及权重W的L2\n",
    "        return activations, tf.nn.l2_loss(weights)\n",
    "\n",
    "    def drop_layer(self,in_tensor):\n",
    "            #tf.scalar_summary('dropout_keep', self.drop_keep_rate)\n",
    "        dropped = tf.nn.dropout(in_tensor, self.drop_keep_rate)\n",
    "        return dropped\n",
    "\n",
    "    def build(self, prefix):\n",
    "        # 建立网络 \n",
    "        # incoming也代表当前tensor的流动位置\n",
    "        incoming = self.inputs\n",
    "        # 如果没有隐藏层\n",
    "        if self.Layers!=0:\n",
    "            layer_nodes = [self.D_input] + self.N_hidden\n",
    "        else:\n",
    "            layer_nodes = [self.D_input]\n",
    "        \n",
    "        # hid_layers用于存储所有隐藏层的输出\n",
    "        self.hid_layers=[]\n",
    "        # W用于存储所有层的权重\n",
    "        self.W=[]\n",
    "        # b用于存储所有层的偏移\n",
    "        self.b=[]\n",
    "        # total_l2用于存储所有层的L2\n",
    "        self.total_l2=[]\n",
    "        \n",
    "        # 开始叠加隐藏层。这跟千层饼没什么区别。\n",
    "        for l in range(self.Layers):\n",
    "            # 使用刚才编写的函数来建立层，并更新incoming的位置\n",
    "            incoming,l2_loss= self.layer(incoming,layer_nodes[l],layer_nodes[l+1],prefix+'_hid_'+str(l+1),act=tf.nn.relu)\n",
    "            # 累计l2\n",
    "            self.total_l2.append(l2_loss)\n",
    "            # 输出一些信息，让我们知道网络在建造中做了什么\n",
    "            print('Add dense layer: relu')\n",
    "            print('    %sD --> %sD' %(layer_nodes[l],layer_nodes[l+1]))\n",
    "            # 存储所有隐藏层的输出\n",
    "            self.hid_layers.append(incoming)\n",
    "            # 加入dropout层\n",
    "            incoming = self.drop_layer(incoming)\n",
    "            \n",
    "        # 输出层的建立。输出层需要特别对待的原因是输出层的activation function要根据任务来变。\n",
    "        # 回归任务的话，下面用的是tf.identity，也就是没有activation function\n",
    "        if self.Task_type=='regression':\n",
    "            out_act=tf.identity\n",
    "        else:\n",
    "            # 分类任务使用softmax来拟合概率\n",
    "            out_act=tf.nn.softmax\n",
    "        self.output,l2_loss= self.layer(incoming,layer_nodes[-1],self.D_label, layer_name='output',act=out_act)\n",
    "        self.total_l2.append(l2_loss)\n",
    "        print('Add output layer: linear')\n",
    "        print('    %sD --> %sD' %(layer_nodes[-1],self.D_label))\n",
    "        \n",
    "        # l2 loss的缩放图\n",
    "        with tf.name_scope('total_l2'):\n",
    "            for l2 in self.total_l2:\n",
    "                self.l2_penalty+=l2\n",
    "            tf.summary.scalar('l2_penalty', self.l2_penalty)\n",
    "            \n",
    "        # 不同任务的loss\n",
    "        # 若为回归，则loss是用于判断所有预测值和实际值差别的函数。\n",
    "        if self.Task_type=='regression':\n",
    "            with tf.name_scope('SSE'):\n",
    "                self.loss=tf.reduce_mean((self.output-self.labels)**2)\n",
    "                self.loss2=tf.nn.l2_loss(self.output-self.labels)\n",
    "                \n",
    "                tf.summary.scalar('loss', self.loss)\n",
    "        else:\n",
    "            # 若为分类，cross entropy的loss function\n",
    "            entropy = tf.nn.softmax_cross_entropy_with_logits(self.output, self.labels)\n",
    "            with tf.name_scope('cross entropy'):\n",
    "                self.loss = tf.reduce_mean(entropy)\n",
    "                tf.summary.scalar('loss', self.loss)\n",
    "            with tf.name_scope('accuracy'):\n",
    "                correct_prediction = tf.equal(tf.argmax(self.output, 1), tf.argmax(self.labels, 1))\n",
    "                self.accuracy = tf.reduce_mean(tf.cast(correct_prediction, tf.float32))\n",
    "                tf.summary.scalar('accuracy', self.accuracy)\n",
    "                \n",
    "        # 整合所有loss，形成最终loss\n",
    "        with tf.name_scope('total_loss'):\n",
    "            self.total_loss=self.loss + self.l2_penalty*self.L2_lambda\n",
    "            tf.summary.scalar('total_loss', self.total_loss)\n",
    "            \n",
    "        # 训练操作\n",
    "        with tf.name_scope('train'):\n",
    "            self.train_step = tf.train.AdamOptimizer(self.learning_rate).minimize(self.total_loss)\n",
    "\n",
    "        # 洗牌功能\n",
    "    def shufflelists(self,lists):\n",
    "        ri=np.random.permutation(len(lists[1]))\n",
    "        out=[]\n",
    "        for l in lists:\n",
    "            out.append(l[ri])\n",
    "        return out"
   ]
  },
  {
   "cell_type": "code",
   "execution_count": 7,
   "metadata": {
    "collapsed": true
   },
   "outputs": [],
   "source": [
    "def Standardize(seq):\n",
    "    #subtract mean\n",
    "    centerized=seq-np.mean(seq, axis = 0)\n",
    "    #divide standard deviation\n",
    "    normalized=centerized/np.std(centerized, axis = 0)\n",
    "    return normalized\n",
    "def Makewindows(indata,window_size=41):\n",
    "    outdata=[]\n",
    "    mid=int(window_size/2)\n",
    "    indata=np.vstack((np.zeros((mid,indata.shape[1])), indata, np.zeros((mid,indata.shape[1]))))\n",
    "    for i in range(indata.shape[0]-window_size+1):\n",
    "        outdata.append(np.hstack(indata[i:i+window_size]))\n",
    "    return np.array(outdata)"
   ]
  },
  {
   "cell_type": "code",
   "execution_count": 8,
   "metadata": {
    "collapsed": true
   },
   "outputs": [],
   "source": [
    "mfc=np.load('./YJango/tensorflow/X.npy')\n",
    "art=np.load('./YJango/tensorflow/Y.npy')\n",
    "x=[]\n",
    "y=[]\n",
    "for i in range(len(mfc)):\n",
    "    x.append(Makewindows(Standardize(mfc[i])))\n",
    "    y.append(Standardize(art[i]))\n",
    "\n",
    "vali_size=20\n",
    "totalsamples=len(np.vstack(x))\n",
    "X_train=np.vstack(x)[int(totalsamples/vali_size):].astype(\"float32\")\n",
    "Y_train=np.vstack(y)[int(totalsamples/vali_size):].astype(\"float32\")\n",
    "\n",
    "X_test=np.vstack(x)[:int(totalsamples/vali_size)].astype(\"float32\")\n",
    "Y_test=np.vstack(y)[:int(totalsamples/vali_size)].astype(\"float32\")"
   ]
  },
  {
   "cell_type": "code",
   "execution_count": 10,
   "metadata": {
    "collapsed": false
   },
   "outputs": [
    {
     "name": "stdout",
     "output_type": "stream",
     "text": [
      "((37500, 1599), (37500, 24), (1973, 1599), (1973, 24))\n"
     ]
    }
   ],
   "source": [
    "print(X_train.shape,Y_train.shape,X_test.shape,Y_test.shape)"
   ]
  },
  {
   "cell_type": "code",
   "execution_count": 11,
   "metadata": {
    "collapsed": false,
    "scrolled": true
   },
   "outputs": [
    {
     "name": "stdout",
     "output_type": "stream",
     "text": [
      "Add dense layer: relu\n",
      "    1599D --> 2048D\n",
      "Add dense layer: relu\n",
      "    2048D --> 1024D\n",
      "Add dense layer: relu\n",
      "    1024D --> 512D\n",
      "Add dense layer: relu\n",
      "    512D --> 256D\n",
      "Add dense layer: relu\n",
      "    256D --> 128D\n",
      "Add output layer: linear\n",
      "    128D --> 24D\n"
     ]
    }
   ],
   "source": [
    "# 生成网络实例\n",
    "ff=FNN(learning_rate=7e-5, Layers=5, N_hidden=[2048,1024,512,256,128], D_input=1599, D_label=24, L2_lambda=1e-4)"
   ]
  },
  {
   "cell_type": "code",
   "execution_count": 17,
   "metadata": {
    "collapsed": false
   },
   "outputs": [],
   "source": [
    "sess = tf.InteractiveSession(config=tf.ConfigProto(gpu_options=gpu_options))\n",
    "tf.global_variables_initializer().run()\n",
    "merged = tf.summary.merge_all()\n",
    "train_writer = tf.summary.FileWriter('log3' + '/train',sess.graph)\n",
    "test_writer = tf.summary.FileWriter('log3' + '/test')"
   ]
  },
  {
   "cell_type": "code",
   "execution_count": 22,
   "metadata": {
    "collapsed": true
   },
   "outputs": [
    {
     "name": "stdout",
     "output_type": "stream",
     "text": [
      "epoch0 | train_loss:0.153061 |test_loss:0.435396\n",
      "epoch1 | train_loss:0.113214 |test_loss:0.413357\n",
      "epoch2 | train_loss:0.0885114 |test_loss:0.414095\n",
      "epoch3 | train_loss:0.0753423 |test_loss:0.417356\n",
      "epoch4 | train_loss:0.0635002 |test_loss:0.410296\n"
     ]
    },
    {
     "ename": "KeyboardInterrupt",
     "evalue": "",
     "output_type": "error",
     "traceback": [
      "\u001b[0;31m---------------------------------------------------------------------------\u001b[0m",
      "\u001b[0;31mKeyboardInterrupt\u001b[0m                         Traceback (most recent call last)",
      "\u001b[0;32m<ipython-input-22-d2dc4e11cb06>\u001b[0m in \u001b[0;36m<module>\u001b[0;34m()\u001b[0m\n\u001b[1;32m      7\u001b[0m     \u001b[0;32mwhile\u001b[0m \u001b[0midx\u001b[0m\u001b[0;34m<\u001b[0m\u001b[0mX_train\u001b[0m\u001b[0;34m.\u001b[0m\u001b[0mshape\u001b[0m\u001b[0;34m[\u001b[0m\u001b[0;36m0\u001b[0m\u001b[0;34m]\u001b[0m\u001b[0;34m:\u001b[0m\u001b[0;34m\u001b[0m\u001b[0m\n\u001b[1;32m      8\u001b[0m \u001b[0;31m#         summary, _ = sess.run([merged, ff.train_step], \\\u001b[0m\u001b[0;34m\u001b[0m\u001b[0;34m\u001b[0m\u001b[0m\n\u001b[0;32m----> 9\u001b[0;31m         \u001b[0msess\u001b[0m\u001b[0;34m.\u001b[0m\u001b[0mrun\u001b[0m\u001b[0;34m(\u001b[0m\u001b[0;34m[\u001b[0m\u001b[0mff\u001b[0m\u001b[0;34m.\u001b[0m\u001b[0mtrain_step\u001b[0m\u001b[0;34m]\u001b[0m\u001b[0;34m,\u001b[0m             \u001b[0mfeed_dict\u001b[0m\u001b[0;34m=\u001b[0m\u001b[0;34m{\u001b[0m\u001b[0mff\u001b[0m\u001b[0;34m.\u001b[0m\u001b[0minputs\u001b[0m\u001b[0;34m:\u001b[0m\u001b[0mX0\u001b[0m\u001b[0;34m[\u001b[0m\u001b[0midx\u001b[0m\u001b[0;34m:\u001b[0m\u001b[0midx\u001b[0m\u001b[0;34m+\u001b[0m\u001b[0mBatch\u001b[0m\u001b[0;34m]\u001b[0m\u001b[0;34m,\u001b[0m\u001b[0mff\u001b[0m\u001b[0;34m.\u001b[0m\u001b[0mlabels\u001b[0m\u001b[0;34m:\u001b[0m\u001b[0mY0\u001b[0m\u001b[0;34m[\u001b[0m\u001b[0midx\u001b[0m\u001b[0;34m:\u001b[0m\u001b[0midx\u001b[0m\u001b[0;34m+\u001b[0m\u001b[0mBatch\u001b[0m\u001b[0;34m]\u001b[0m\u001b[0;34m,\u001b[0m\u001b[0mff\u001b[0m\u001b[0;34m.\u001b[0m\u001b[0mdrop_keep_rate\u001b[0m\u001b[0;34m:\u001b[0m\u001b[0;36m1.0\u001b[0m\u001b[0;34m}\u001b[0m\u001b[0;34m)\u001b[0m\u001b[0;31m#当keep rate设为1.0时，表示不运用dropout\u001b[0m\u001b[0;34m\u001b[0m\u001b[0m\n\u001b[0m\u001b[1;32m     10\u001b[0m         \u001b[0midx\u001b[0m\u001b[0;34m+=\u001b[0m\u001b[0mBatch\u001b[0m\u001b[0;34m\u001b[0m\u001b[0m\n\u001b[1;32m     11\u001b[0m         \u001b[0mk\u001b[0m\u001b[0;34m+=\u001b[0m\u001b[0;36m1\u001b[0m\u001b[0;34m\u001b[0m\u001b[0m\n",
      "\u001b[0;32m/home/lilinhan/workspace/software/anaconda/envs/tensorflow/lib/python2.7/site-packages/tensorflow/python/client/session.pyc\u001b[0m in \u001b[0;36mrun\u001b[0;34m(self, fetches, feed_dict, options, run_metadata)\u001b[0m\n\u001b[1;32m    776\u001b[0m     \u001b[0;32mtry\u001b[0m\u001b[0;34m:\u001b[0m\u001b[0;34m\u001b[0m\u001b[0m\n\u001b[1;32m    777\u001b[0m       result = self._run(None, fetches, feed_dict, options_ptr,\n\u001b[0;32m--> 778\u001b[0;31m                          run_metadata_ptr)\n\u001b[0m\u001b[1;32m    779\u001b[0m       \u001b[0;32mif\u001b[0m \u001b[0mrun_metadata\u001b[0m\u001b[0;34m:\u001b[0m\u001b[0;34m\u001b[0m\u001b[0m\n\u001b[1;32m    780\u001b[0m         \u001b[0mproto_data\u001b[0m \u001b[0;34m=\u001b[0m \u001b[0mtf_session\u001b[0m\u001b[0;34m.\u001b[0m\u001b[0mTF_GetBuffer\u001b[0m\u001b[0;34m(\u001b[0m\u001b[0mrun_metadata_ptr\u001b[0m\u001b[0;34m)\u001b[0m\u001b[0;34m\u001b[0m\u001b[0m\n",
      "\u001b[0;32m/home/lilinhan/workspace/software/anaconda/envs/tensorflow/lib/python2.7/site-packages/tensorflow/python/client/session.pyc\u001b[0m in \u001b[0;36m_run\u001b[0;34m(self, handle, fetches, feed_dict, options, run_metadata)\u001b[0m\n\u001b[1;32m    980\u001b[0m     \u001b[0;32mif\u001b[0m \u001b[0mfinal_fetches\u001b[0m \u001b[0;32mor\u001b[0m \u001b[0mfinal_targets\u001b[0m\u001b[0;34m:\u001b[0m\u001b[0;34m\u001b[0m\u001b[0m\n\u001b[1;32m    981\u001b[0m       results = self._do_run(handle, final_targets, final_fetches,\n\u001b[0;32m--> 982\u001b[0;31m                              feed_dict_string, options, run_metadata)\n\u001b[0m\u001b[1;32m    983\u001b[0m     \u001b[0;32melse\u001b[0m\u001b[0;34m:\u001b[0m\u001b[0;34m\u001b[0m\u001b[0m\n\u001b[1;32m    984\u001b[0m       \u001b[0mresults\u001b[0m \u001b[0;34m=\u001b[0m \u001b[0;34m[\u001b[0m\u001b[0;34m]\u001b[0m\u001b[0;34m\u001b[0m\u001b[0m\n",
      "\u001b[0;32m/home/lilinhan/workspace/software/anaconda/envs/tensorflow/lib/python2.7/site-packages/tensorflow/python/client/session.pyc\u001b[0m in \u001b[0;36m_do_run\u001b[0;34m(self, handle, target_list, fetch_list, feed_dict, options, run_metadata)\u001b[0m\n\u001b[1;32m   1030\u001b[0m     \u001b[0;32mif\u001b[0m \u001b[0mhandle\u001b[0m \u001b[0;32mis\u001b[0m \u001b[0mNone\u001b[0m\u001b[0;34m:\u001b[0m\u001b[0;34m\u001b[0m\u001b[0m\n\u001b[1;32m   1031\u001b[0m       return self._do_call(_run_fn, self._session, feed_dict, fetch_list,\n\u001b[0;32m-> 1032\u001b[0;31m                            target_list, options, run_metadata)\n\u001b[0m\u001b[1;32m   1033\u001b[0m     \u001b[0;32melse\u001b[0m\u001b[0;34m:\u001b[0m\u001b[0;34m\u001b[0m\u001b[0m\n\u001b[1;32m   1034\u001b[0m       return self._do_call(_prun_fn, self._session, handle, feed_dict,\n",
      "\u001b[0;32m/home/lilinhan/workspace/software/anaconda/envs/tensorflow/lib/python2.7/site-packages/tensorflow/python/client/session.pyc\u001b[0m in \u001b[0;36m_do_call\u001b[0;34m(self, fn, *args)\u001b[0m\n\u001b[1;32m   1037\u001b[0m   \u001b[0;32mdef\u001b[0m \u001b[0m_do_call\u001b[0m\u001b[0;34m(\u001b[0m\u001b[0mself\u001b[0m\u001b[0;34m,\u001b[0m \u001b[0mfn\u001b[0m\u001b[0;34m,\u001b[0m \u001b[0;34m*\u001b[0m\u001b[0margs\u001b[0m\u001b[0;34m)\u001b[0m\u001b[0;34m:\u001b[0m\u001b[0;34m\u001b[0m\u001b[0m\n\u001b[1;32m   1038\u001b[0m     \u001b[0;32mtry\u001b[0m\u001b[0;34m:\u001b[0m\u001b[0;34m\u001b[0m\u001b[0m\n\u001b[0;32m-> 1039\u001b[0;31m       \u001b[0;32mreturn\u001b[0m \u001b[0mfn\u001b[0m\u001b[0;34m(\u001b[0m\u001b[0;34m*\u001b[0m\u001b[0margs\u001b[0m\u001b[0;34m)\u001b[0m\u001b[0;34m\u001b[0m\u001b[0m\n\u001b[0m\u001b[1;32m   1040\u001b[0m     \u001b[0;32mexcept\u001b[0m \u001b[0merrors\u001b[0m\u001b[0;34m.\u001b[0m\u001b[0mOpError\u001b[0m \u001b[0;32mas\u001b[0m \u001b[0me\u001b[0m\u001b[0;34m:\u001b[0m\u001b[0;34m\u001b[0m\u001b[0m\n\u001b[1;32m   1041\u001b[0m       \u001b[0mmessage\u001b[0m \u001b[0;34m=\u001b[0m \u001b[0mcompat\u001b[0m\u001b[0;34m.\u001b[0m\u001b[0mas_text\u001b[0m\u001b[0;34m(\u001b[0m\u001b[0me\u001b[0m\u001b[0;34m.\u001b[0m\u001b[0mmessage\u001b[0m\u001b[0;34m)\u001b[0m\u001b[0;34m\u001b[0m\u001b[0m\n",
      "\u001b[0;32m/home/lilinhan/workspace/software/anaconda/envs/tensorflow/lib/python2.7/site-packages/tensorflow/python/client/session.pyc\u001b[0m in \u001b[0;36m_run_fn\u001b[0;34m(session, feed_dict, fetch_list, target_list, options, run_metadata)\u001b[0m\n\u001b[1;32m   1019\u001b[0m         return tf_session.TF_Run(session, options,\n\u001b[1;32m   1020\u001b[0m                                  \u001b[0mfeed_dict\u001b[0m\u001b[0;34m,\u001b[0m \u001b[0mfetch_list\u001b[0m\u001b[0;34m,\u001b[0m \u001b[0mtarget_list\u001b[0m\u001b[0;34m,\u001b[0m\u001b[0;34m\u001b[0m\u001b[0m\n\u001b[0;32m-> 1021\u001b[0;31m                                  status, run_metadata)\n\u001b[0m\u001b[1;32m   1022\u001b[0m \u001b[0;34m\u001b[0m\u001b[0m\n\u001b[1;32m   1023\u001b[0m     \u001b[0;32mdef\u001b[0m \u001b[0m_prun_fn\u001b[0m\u001b[0;34m(\u001b[0m\u001b[0msession\u001b[0m\u001b[0;34m,\u001b[0m \u001b[0mhandle\u001b[0m\u001b[0;34m,\u001b[0m \u001b[0mfeed_dict\u001b[0m\u001b[0;34m,\u001b[0m \u001b[0mfetch_list\u001b[0m\u001b[0;34m)\u001b[0m\u001b[0;34m:\u001b[0m\u001b[0;34m\u001b[0m\u001b[0m\n",
      "\u001b[0;31mKeyboardInterrupt\u001b[0m: "
     ]
    }
   ],
   "source": [
    "# 训练并记录\n",
    "k=0\n",
    "Batch=32\n",
    "for i in range(50):\n",
    "    idx=0\n",
    "    X0,Y0=ff.shufflelists([X_train,Y_train])\n",
    "    while idx<X_train.shape[0]:\n",
    "#         summary, _ = sess.run([merged, ff.train_step], \\\n",
    "        sess.run([ff.train_step], \\\n",
    "            feed_dict={ff.inputs:X0[idx:idx+Batch],ff.labels:Y0[idx:idx+Batch],ff.drop_keep_rate:1.0})#当keep rate设为1.0时，表示不运用dropout\n",
    "        idx+=Batch\n",
    "        k+=1\n",
    "#         train_writer.add_summary(summary, k)\n",
    "    #test\n",
    "#     summary,pY,pL=sess.run([merged,ff.output,ff.loss],feed_dict={ff.inputs:X_test,ff.labels:Y_test,ff.drop_keep_rate:1.0})\n",
    "    pY,pL=sess.run([ff.output,ff.loss],feed_dict={ff.inputs:X_test,ff.labels:Y_test,ff.drop_keep_rate:1.0})\n",
    "    plots(Y_test,pY,i)\n",
    "#     test_writer.add_summary(summary, k)\n",
    "    print('epoch%s | train_loss:%s |test_loss:%s' % \\\n",
    "        (i,sess.run(ff.loss,feed_dict={ff.inputs:X0,ff.labels:Y0,ff.drop_keep_rate:1.0}),\n",
    "         sess.run(ff.loss,feed_dict={ff.inputs:X_test,ff.labels:Y_test,ff.drop_keep_rate:1.0}) ) )"
   ]
  },
  {
   "cell_type": "code",
   "execution_count": 20,
   "metadata": {
    "collapsed": false
   },
   "outputs": [],
   "source": [
    "def plots(T,P,i, n=21,length=400):\n",
    "    m=0\n",
    "    plt.figure(figsize=(20,16))\n",
    "    plt.subplot(411)\n",
    "    plt.plot(T[m:m+length,7],'--')\n",
    "    plt.plot(P[m:m+length,7])\n",
    "\n",
    "    plt.subplot(412)\n",
    "    plt.plot(T[m:m+length,8],'--')\n",
    "    plt.plot(P[m:m+length,8])\n",
    "    \n",
    "    plt.subplot(413)\n",
    "    plt.plot(T[m:m+length,15],'--')\n",
    "    plt.plot(P[m:m+length,15])\n",
    "    \n",
    "    plt.subplot(414)\n",
    "    plt.plot(T[m:m+length,16],'--')\n",
    "    plt.plot(P[m:m+length,16])\n",
    "    plt.legend(['True','Predicted'])\n",
    "    plt.savefig('epoch'+str(i)+'.png')\n",
    "    plt.close()"
   ]
  },
  {
   "cell_type": "code",
   "execution_count": null,
   "metadata": {
    "collapsed": true
   },
   "outputs": [],
   "source": [
    "####################################################################################################################"
   ]
  },
  {
   "cell_type": "code",
   "execution_count": 3,
   "metadata": {
    "collapsed": true
   },
   "outputs": [],
   "source": [
    "import time"
   ]
  },
  {
   "cell_type": "code",
   "execution_count": 4,
   "metadata": {
    "collapsed": false
   },
   "outputs": [
    {
     "name": "stdout",
     "output_type": "stream",
     "text": [
      "num of train sequences:83\n",
      "num of test sequences:20\n",
      "('shape of inputs:', (1, 886, 39))\n",
      "('shape of labels:', (886, 24))\n"
     ]
    }
   ],
   "source": [
    "def Standardize(seq):\n",
    "    #subtract mean\n",
    "    centerized=seq-np.mean(seq, axis = 0)\n",
    "    #divide standard deviation\n",
    "    normalized=centerized/np.std(centerized, axis = 0)\n",
    "    return normalized\n",
    "mfc=np.load('./tensorflow/X.npy')\n",
    "art=np.load('./tensorflow/Y.npy')\n",
    "totalsamples=len(mfc)\n",
    "vali_size=0.2\n",
    "def data_prer(X, Y):\n",
    "    D_input=X[0].shape[1]\n",
    "    D_output=24\n",
    "    data=[]\n",
    "    for x,y in zip(X,Y):\n",
    "        data.append([Standardize(x).reshape((1,-1,D_input)).astype(\"float32\"),\n",
    "                     Standardize(y).astype(\"float32\")])\n",
    "    return data\n",
    "data=data_prer(mfc, art)\n",
    "train=data[int(totalsamples*vali_size):]\n",
    "test=data[:int(totalsamples*vali_size)]\n",
    "print('num of train sequences:%s' %len(train))\n",
    "print('num of test sequences:%s' %len(test))\n",
    "print('shape of inputs:' ,test[0][0].shape)\n",
    "print('shape of labels:' ,test[0][1].shape)"
   ]
  },
  {
   "cell_type": "code",
   "execution_count": 5,
   "metadata": {
    "collapsed": true
   },
   "outputs": [],
   "source": [
    "def weight_init(shape):\n",
    "    initial = tf.random_uniform(shape,minval=-np.sqrt(5)*np.sqrt(1.0/shape[0]), maxval=np.sqrt(5)*np.sqrt(1.0/shape[0]))\n",
    "    return tf.Variable(initial,trainable=True)\n",
    "\n",
    "def zero_init(shape):\n",
    "    initial = tf.Variable(tf.zeros(shape))\n",
    "    return tf.Variable(initial,trainable=True)\n",
    "\n",
    "def orthogonal_initializer(shape,scale = 1.0):\n",
    "    #https://github.com/Lasagne/Lasagne/blob/master/lasagne/init.py\n",
    "    scale = 1.0\n",
    "    flat_shape = (shape[0], np.prod(shape[1:]))\n",
    "    a = np.random.normal(0.0, 1.0, flat_shape)\n",
    "    u, _, v = np.linalg.svd(a, full_matrices=False)\n",
    "    q = u if u.shape == flat_shape else v\n",
    "    q = q.reshape(shape) #this needs to be corrected to float32\n",
    "    return tf.Variable(scale * q[:shape[0], :shape[1]],trainable=True, dtype=tf.float32)\n",
    "\n",
    "def bias_init(shape):\n",
    "    initial = tf.constant(0.01, shape=shape)\n",
    "    return tf.Variable(initial)\n",
    "def shufflelists(data):\n",
    "    ri=np.random.permutation(len(data))\n",
    "    data=[data[i] for i in ri]\n",
    "    return data"
   ]
  },
  {
   "cell_type": "code",
   "execution_count": 6,
   "metadata": {
    "collapsed": false
   },
   "outputs": [],
   "source": [
    "class LSTMcell(object):\n",
    "    def __init__(self, incoming, D_input, D_cell, initializer, f_bias=1.0):\n",
    "        \n",
    "        # var\n",
    "        # the shape of incoming is [n_samples, n_steps, D_cell]\n",
    "        self.incoming = incoming\n",
    "        self.D_input = D_input\n",
    "        self.D_cell = D_cell\n",
    "        # parameters\n",
    "          # igate = W_xi.* x + W_hi.* h + b_i\n",
    "        self.W_xi = initializer([self.D_input, self.D_cell])\n",
    "        self.W_hi = initializer([self.D_cell, self.D_cell])\n",
    "        self.b_i  = tf.Variable(tf.zeros([self.D_cell]))  \n",
    "          # fgate = W_xf.* x + W_hf.* h + b_f\n",
    "        self.W_xf = initializer([self.D_input, self.D_cell])\n",
    "        self.W_hf = initializer([self.D_cell, self.D_cell])\n",
    "        self.b_f  = tf.Variable(tf.constant(f_bias, shape=[self.D_cell])) \n",
    "          # ogate = W_xo.* x + W_ho.* h + b_o\n",
    "        self.W_xo = initializer([self.D_input, self.D_cell])\n",
    "        self.W_ho = initializer([self.D_cell, self.D_cell])\n",
    "        self.b_o  = tf.Variable(tf.zeros([self.D_cell])) \n",
    "          # cell = W_xc.* x + W_hc.* h + b_c\n",
    "        self.W_xc = initializer([self.D_input, self.D_cell])\n",
    "        self.W_hc = initializer([self.D_cell, self.D_cell])\n",
    "        self.b_c  = tf.Variable(tf.zeros([self.D_cell]))  \n",
    "        \n",
    "        # init cell and hidden state whose shapes are [n_samples, D_cell]\n",
    "        init_for_both = tf.matmul(self.incoming[:,0,:], tf.zeros([self.D_input, self.D_cell]))\n",
    "        self.hid_init = init_for_both\n",
    "        self.cell_init = init_for_both\n",
    "        # because tf.scan only takes two arguments, the hidden state and cell are needed to merge\n",
    "        self.previous_h_c_tuple = tf.stack([self.hid_init, self.cell_init])\n",
    "        # transpose the tensor so that the first dim is time_step\n",
    "        self.incoming = tf.transpose(self.incoming, perm=[1,0,2])\n",
    "        \n",
    "    def one_step(self, previous_h_c_tuple, current_x):\n",
    "        \n",
    "        # to split hidden state and cell\n",
    "        prev_h, prev_c = tf.unstack(previous_h_c_tuple)\n",
    "        \n",
    "        # computing\n",
    "        # input gate\n",
    "        i = tf.sigmoid(\n",
    "            tf.matmul(current_x, self.W_xi) + \n",
    "            tf.matmul(prev_h, self.W_hi) + \n",
    "            self.b_i)\n",
    "        \n",
    "        # forget Gate\n",
    "        f = tf.sigmoid(\n",
    "            tf.matmul(current_x, self.W_xf) + \n",
    "            tf.matmul(prev_h, self.W_hf) + \n",
    "            self.b_f)\n",
    "        # output Gate\n",
    "        o = tf.sigmoid(\n",
    "            tf.matmul(current_x, self.W_xo) + \n",
    "            tf.matmul(prev_h, self.W_ho) + \n",
    "            self.b_o)\n",
    "        # new cell info\n",
    "        c = tf.tanh(\n",
    "            tf.matmul(current_x, self.W_xc) + \n",
    "            tf.matmul(prev_h, self.W_hc) + \n",
    "            self.b_c)\n",
    "        # current cell \n",
    "        current_c = f*prev_c + i*c\n",
    "        # current hidden state\n",
    "        current_h = o*tf.tanh(current_c)\n",
    "        \n",
    "#         print tf.stack([current_h, current_c]).shape, (tf.stack([current_h, current_c]))\n",
    "#         print current_x.shape, i.shape, self.W_xi.shape, current_h.shape, current_c.shape\n",
    "        return tf.stack([current_h, current_c])\n",
    "    \n",
    "    def all_steps(self):\n",
    "        # inputs shape : [n_sample, n_steps, D_input]\n",
    "        # outputs shape : [n_steps, n_sample, D_output]\n",
    "        \n",
    "        #incomint经过了转置，应该是[n_step, 1, D_input]\n",
    "        #那么scan的结果就是，[step, 2, 1, D_cell]\n",
    "        #那么hstates 的结果就是 [step, 1, D_cell]\n",
    "        scan_result = tf.scan(fn = self.one_step,\n",
    "                          elems = self.incoming,\n",
    "                          initializer = self.previous_h_c_tuple,\n",
    "                          name = 'scan_result')\n",
    "        hstates = tf.scan(fn = self.one_step,\n",
    "                          elems = self.incoming,\n",
    "                          initializer = self.previous_h_c_tuple,\n",
    "                          name = 'hstates')[:,0,:,:]\n",
    "        return hstates, scan_result"
   ]
  },
  {
   "cell_type": "code",
   "execution_count": 7,
   "metadata": {
    "collapsed": false
   },
   "outputs": [],
   "source": [
    "D_input = 39\n",
    "D_label = 24\n",
    "learning_rate = 7e-5\n",
    "num_units = 1024\n",
    "\n",
    "inputs = tf.placeholder(tf.float32, [None, None, D_input], name=\"inputs\")\n",
    "labels = tf.placeholder(tf.float32, [None, D_label], name=\"labels\")\n",
    "\n",
    "rnn_cell = LSTMcell(inputs, D_input, num_units, orthogonal_initializer) #将rnn_cell看做一个整体，就是一个节点。\n",
    "\n",
    "#hstates 的shape 为[len(self.incoming) fn().shape] ,也就是[none, 2, none, 1024]，\n",
    "#那么 rnn0 取的是 hid 状态， 那么shape就是[none, none, 1024]\n",
    "#第一个none是\n",
    "rnn0,scan_result = rnn_cell.all_steps()\n",
    "\n",
    "# reshape for output layer\n",
    "rnn = tf.reshape(rnn0, [-1, num_units])   #shape, [n_step, D_cell]\n",
    "# output layer\n",
    "W = weight_init([num_units, D_label])     #shape, [D_cell, D_label]\n",
    "b = bias_init([D_label])\n",
    "output = tf.matmul(rnn, W) + b\n",
    "\n",
    "loss=tf.reduce_mean((output-labels)**2)    #没有求根号，所以可以这样，求了根号，就不一样了。\n",
    "\n",
    "train_step = tf.train.AdamOptimizer(learning_rate).minimize(loss)\n",
    "#训练是只用了一个样本\n",
    "#那么n_sample就是 1\n",
    "#如果用多个样本，但是每个样本的step不一样，怎么训练？\n",
    "#先只考虑为n_smaple 为 1 的情况"
   ]
  },
  {
   "cell_type": "code",
   "execution_count": 8,
   "metadata": {
    "collapsed": false
   },
   "outputs": [],
   "source": [
    "sess = tf.InteractiveSession()\n",
    "tf.global_variables_initializer().run()"
   ]
  },
  {
   "cell_type": "code",
   "execution_count": 39,
   "metadata": {
    "collapsed": false,
    "scrolled": true
   },
   "outputs": [
    {
     "name": "stdout",
     "output_type": "stream",
     "text": [
      "(0, 'train:', 0.21, 'test:', 0.447)\n",
      "(1, 'train:', 0.2, 'test:', 0.44)\n",
      "(2, 'train:', 0.183, 'test:', 0.432)\n",
      "(3, 'train:', 0.172, 'test:', 0.437)\n",
      "(4, 'train:', 0.164, 'test:', 0.434)\n",
      "(5, 'train:', 0.156, 'test:', 0.435)\n",
      "(6, 'train:', 0.154, 'test:', 0.447)\n",
      "(7, 'train:', 0.144, 'test:', 0.427)\n",
      "(8, 'train:', 0.138, 'test:', 0.431)\n",
      "(9, 'train:', 0.133, 'test:', 0.423)\n",
      "(10, 'train:', 0.126, 'test:', 0.426)\n",
      "(11, 'train:', 0.12, 'test:', 0.432)\n",
      "(12, 'train:', 0.115, 'test:', 0.43)\n",
      "(13, 'train:', 0.11, 'test:', 0.429)\n",
      "(14, 'train:', 0.108, 'test:', 0.43)\n",
      "(15, 'train:', 0.106, 'test:', 0.429)\n",
      "(16, 'train:', 0.106, 'test:', 0.429)\n",
      "(17, 'train:', 0.1, 'test:', 0.433)\n",
      "(18, 'train:', 0.099, 'test:', 0.422)\n",
      "(19, 'train:', 0.096, 'test:', 0.428)\n",
      "(20, 'train:', 0.095, 'test:', 0.431)\n",
      "(21, 'train:', 0.094, 'test:', 0.436)\n",
      "(22, 'train:', 0.088, 'test:', 0.422)\n",
      "(23, 'train:', 0.085, 'test:', 0.429)\n",
      "(24, 'train:', 0.084, 'test:', 0.422)\n",
      "(25, 'train:', 0.082, 'test:', 0.422)\n",
      "(26, 'train:', 0.078, 'test:', 0.429)\n",
      "(27, 'train:', 0.076, 'test:', 0.425)\n",
      "(28, 'train:', 0.075, 'test:', 0.422)\n",
      "(29, 'train:', 0.074, 'test:', 0.43)\n",
      "(30, 'train:', 0.072, 'test:', 0.428)\n",
      "(31, 'train:', 0.071, 'test:', 0.419)\n",
      "(32, 'train:', 0.071, 'test:', 0.422)\n",
      "(33, 'train:', 0.068, 'test:', 0.428)\n",
      "(34, 'train:', 0.068, 'test:', 0.428)\n",
      "(35, 'train:', 0.066, 'test:', 0.422)\n",
      "(36, 'train:', 0.067, 'test:', 0.422)\n",
      "(37, 'train:', 0.064, 'test:', 0.42)\n",
      "(38, 'train:', 0.063, 'test:', 0.425)\n",
      "(39, 'train:', 0.059, 'test:', 0.421)\n",
      "(40, 'train:', 0.06, 'test:', 0.424)\n",
      "(41, 'train:', 0.058, 'test:', 0.432)\n",
      "(42, 'train:', 0.058, 'test:', 0.421)\n",
      "(43, 'train:', 0.057, 'test:', 0.428)\n",
      "(44, 'train:', 0.055, 'test:', 0.424)\n",
      "(45, 'train:', 0.056, 'test:', 0.426)\n",
      "(46, 'train:', 0.053, 'test:', 0.418)\n",
      "(47, 'train:', 0.053, 'test:', 0.427)\n",
      "(48, 'train:', 0.052, 'test:', 0.421)\n",
      "(49, 'train:', 0.052, 'test:', 0.425)\n",
      "(50, 'train:', 0.05, 'test:', 0.426)\n",
      "(51, 'train:', 0.049, 'test:', 0.423)\n",
      "(52, 'train:', 0.05, 'test:', 0.425)\n",
      "(53, 'train:', 0.049, 'test:', 0.423)\n",
      "(54, 'train:', 0.047, 'test:', 0.429)\n",
      "(55, 'train:', 0.048, 'test:', 0.426)\n",
      "(56, 'train:', 0.047, 'test:', 0.423)\n",
      "(57, 'train:', 0.045, 'test:', 0.425)\n",
      "(58, 'train:', 0.045, 'test:', 0.432)\n",
      "(59, 'train:', 0.044, 'test:', 0.422)\n",
      "(60, 'train:', 0.044, 'test:', 0.423)\n",
      "(61, 'train:', 0.043, 'test:', 0.423)\n",
      "(62, 'train:', 0.042, 'test:', 0.424)\n",
      "(63, 'train:', 0.042, 'test:', 0.426)\n",
      "(64, 'train:', 0.043, 'test:', 0.425)\n",
      "(65, 'train:', 0.04, 'test:', 0.425)\n",
      "(66, 'train:', 0.04, 'test:', 0.427)\n",
      "(67, 'train:', 0.04, 'test:', 0.422)\n",
      "(68, 'train:', 0.04, 'test:', 0.423)\n",
      "(69, 'train:', 0.038, 'test:', 0.422)\n",
      "(70, 'train:', 0.038, 'test:', 0.422)\n",
      "(71, 'train:', 0.037, 'test:', 0.415)\n",
      "(72, 'train:', 0.037, 'test:', 0.424)\n",
      "(73, 'train:', 0.039, 'test:', 0.421)\n",
      "(74, 'train:', 0.037, 'test:', 0.422)\n",
      "(75, 'train:', 0.037, 'test:', 0.422)\n",
      "(76, 'train:', 0.036, 'test:', 0.427)\n",
      "(77, 'train:', 0.035, 'test:', 0.418)\n",
      "(78, 'train:', 0.036, 'test:', 0.423)\n",
      "(79, 'train:', 0.034, 'test:', 0.422)\n",
      "(80, 'train:', 0.033, 'test:', 0.42)\n",
      "(81, 'train:', 0.034, 'test:', 0.421)\n",
      "(82, 'train:', 0.033, 'test:', 0.422)\n",
      "(83, 'train:', 0.033, 'test:', 0.422)\n",
      "(84, 'train:', 0.033, 'test:', 0.421)\n",
      "(85, 'train:', 0.033, 'test:', 0.416)\n",
      "(86, 'train:', 0.034, 'test:', 0.434)\n",
      "(87, 'train:', 0.032, 'test:', 0.427)\n",
      "(88, 'train:', 0.031, 'test:', 0.418)\n",
      "(89, 'train:', 0.03, 'test:', 0.425)\n",
      "(90, 'train:', 0.03, 'test:', 0.425)\n",
      "(91, 'train:', 0.03, 'test:', 0.424)\n",
      "(92, 'train:', 0.031, 'test:', 0.426)\n",
      "(93, 'train:', 0.031, 'test:', 0.421)\n",
      "(94, 'train:', 0.029, 'test:', 0.421)\n",
      "(95, 'train:', 0.028, 'test:', 0.425)\n",
      "(96, 'train:', 0.028, 'test:', 0.424)\n",
      "(97, 'train:', 0.028, 'test:', 0.429)\n",
      "(98, 'train:', 0.027, 'test:', 0.419)\n",
      "(99, 'train:', 0.027, 'test:', 0.425)\n",
      " 5156.960000 seconds\n"
     ]
    }
   ],
   "source": [
    "# 训练并记录\n",
    "def train_epoch(EPOCH):\n",
    "    for k in range(EPOCH):\n",
    "        train0=shufflelists(train)\n",
    "        for i in range(len(train)):\n",
    "#             a = sess.run([tf.shape(inputs), tf.shape(scan_result), tf.shape(rnn0), \n",
    "#                           tf.shape(rnn), tf.shape(W), tf.shape(b), tf.shape(output)], feed_dict={inputs:train0[i][0]})\n",
    "#             print a\n",
    "            sess.run(train_step,feed_dict={inputs:train0[i][0],labels:train0[i][1]})\n",
    "        tl=0\n",
    "        dl=0\n",
    "        for i in range(len(test)):\n",
    "            dl+=sess.run(loss,feed_dict={inputs:test[i][0],labels:test[i][1]})\n",
    "        for i in range(len(train)):\n",
    "            tl+=sess.run(loss,feed_dict={inputs:train[i][0],labels:train[i][1]})\n",
    "        print(k,'train:',round(tl/len(train),3),'test:',round(dl/len(test),3))\n",
    "\n",
    "t0 = time.time()\n",
    "train_epoch(100)\n",
    "t1 = time.time()\n",
    "print(\" %f seconds\" % round((t1 - t0),2))"
   ]
  },
  {
   "cell_type": "code",
   "execution_count": 34,
   "metadata": {
    "collapsed": false
   },
   "outputs": [
    {
     "data": {
      "text/plain": [
       "<matplotlib.legend.Legend at 0x7f40e808d210>"
      ]
     },
     "execution_count": 34,
     "metadata": {},
     "output_type": "execute_result"
    },
    {
     "data": {
      "image/png": "[encoded data removed]",
      "text/plain": [
       "<matplotlib.figure.Figure at 0x7f411fe7af90>"
      ]
     },
     "metadata": {},
     "output_type": "display_data"
    }
   ],
   "source": [
    "pY=sess.run(output,feed_dict={inputs:test[10][0]})\n",
    "plt.plot(pY[:,8])\n",
    "plt.plot(test[10][1][:,8])\n",
    "plt.title('test')\n",
    "plt.legend(['predicted','real'])"
   ]
  },
  {
   "cell_type": "code",
   "execution_count": 35,
   "metadata": {
    "collapsed": false
   },
   "outputs": [
    {
     "data": {
      "text/plain": [
       "<matplotlib.legend.Legend at 0x7f40e06cdc10>"
      ]
     },
     "execution_count": 35,
     "metadata": {},
     "output_type": "execute_result"
    },
    {
     "data": {
      "image/png": "[encoded data removed]",
      "text/plain": [
       "<matplotlib.figure.Figure at 0x7f40e078c1d0>"
      ]
     },
     "metadata": {},
     "output_type": "display_data"
    }
   ],
   "source": [
    "pY=sess.run(output,feed_dict={inputs:train[1][0]})\n",
    "plt.plot(pY[:,6])\n",
    "plt.plot(train[1][1][:,6])\n",
    "plt.title('train')\n",
    "plt.legend(['predicted','real'])"
   ]
  },
  {
   "cell_type": "code",
   "execution_count": 15,
   "metadata": {
    "collapsed": false,
    "scrolled": true
   },
   "outputs": [
    {
     "data": {
      "text/plain": [
       "30153"
      ]
     },
     "execution_count": 15,
     "metadata": {},
     "output_type": "execute_result"
    }
   ],
   "source": [
    "sum(a)"
   ]
  },
  {
   "cell_type": "code",
   "execution_count": null,
   "metadata": {
    "collapsed": true
   },
   "outputs": [],
   "source": [
    "sess.close()"
   ]
  },
  {
   "cell_type": "code",
   "execution_count": null,
   "metadata": {
    "collapsed": false
   },
   "outputs": [],
   "source": [
    "# Creates a graph.\n",
    "a = tf.constant([1.0, 2.0, 3.0, 4.0, 5.0, 6.0], shape=[2, 3], name='a')\n",
    "b = tf.constant([1.0, 2.0, 3.0, 4.0, 5.0, 6.0], shape=[3, 2], name='b')\n",
    "c = tf.matmul(a, b)\n",
    "# Creates a session with log_device_placement set to True.\n",
    "sess = tf.Session(config=tf.ConfigProto(log_device_placement=True))\n",
    "# Runs the op.\n",
    "print(sess.run(c))"
   ]
  },
  {
   "cell_type": "code",
   "execution_count": null,
   "metadata": {
    "collapsed": true
   },
   "outputs": [],
   "source": []
  },
  {
   "cell_type": "code",
   "execution_count": null,
   "metadata": {
    "collapsed": false
   },
   "outputs": [],
   "source": [
    "len(x)"
   ]
  },
  {
   "cell_type": "code",
   "execution_count": null,
   "metadata": {
    "collapsed": false
   },
   "outputs": [],
   "source": [
    "x[102].shape"
   ]
  },
  {
   "cell_type": "code",
   "execution_count": null,
   "metadata": {
    "collapsed": false
   },
   "outputs": [],
   "source": [
    "a.shape"
   ]
  },
  {
   "cell_type": "code",
   "execution_count": null,
   "metadata": {
    "collapsed": false
   },
   "outputs": [],
   "source": [
    "mfc[0].shape"
   ]
  },
  {
   "cell_type": "code",
   "execution_count": null,
   "metadata": {
    "collapsed": false
   },
   "outputs": [],
   "source": [
    "mfc.shape"
   ]
  },
  {
   "cell_type": "code",
   "execution_count": null,
   "metadata": {
    "collapsed": false
   },
   "outputs": [],
   "source": [
    "art[0].shape"
   ]
  },
  {
   "cell_type": "code",
   "execution_count": null,
   "metadata": {
    "collapsed": true
   },
   "outputs": [],
   "source": []
  },
  {
   "cell_type": "code",
   "execution_count": null,
   "metadata": {
    "collapsed": true
   },
   "outputs": [],
   "source": []
  },
  {
   "cell_type": "code",
   "execution_count": null,
   "metadata": {
    "collapsed": true
   },
   "outputs": [],
   "source": []
  },
  {
   "cell_type": "code",
   "execution_count": null,
   "metadata": {
    "collapsed": true
   },
   "outputs": [],
   "source": []
  },
  {
   "cell_type": "code",
   "execution_count": null,
   "metadata": {
    "collapsed": true
   },
   "outputs": [],
   "source": []
  },
  {
   "cell_type": "code",
   "execution_count": null,
   "metadata": {
    "collapsed": false
   },
   "outputs": [],
   "source": [
    "np.arange(max(0, 10 - 2), 10+1)[::-1]"
   ]
  },
  {
   "cell_type": "code",
   "execution_count": null,
   "metadata": {
    "collapsed": true
   },
   "outputs": [],
   "source": [
    "# 目标函数:y=x^2\n",
    "def func(x):\n",
    "    return np.square(x)\n",
    "\n",
    "\n",
    "# 目标函数一阶导数:dy/dx=2*x\n",
    "def dfunc(x):\n",
    "    return 2 * x\n",
    "\n",
    "def GD_momentum(x_start, df, epochs, lr, momentum):\n",
    "    \"\"\"\n",
    "    带有冲量的梯度下降法。\n",
    "    :param x_start: x的起始点\n",
    "    :param df: 目标函数的一阶导函数\n",
    "    :param epochs: 迭代周期\n",
    "    :param lr: 学习率\n",
    "    :param momentum: 冲量\n",
    "    :return: x在每次迭代后的位置（包括起始点），长度为epochs+1\n",
    "    \"\"\"\n",
    "    xs = np.zeros(epochs+1)\n",
    "    x = x_start\n",
    "    xs[0] = x\n",
    "    v = 0\n",
    "    for i in range(epochs):\n",
    "        dx = df(x)\n",
    "        # v表示x要改变的幅度\n",
    "        v = - dx * lr + momentum * v\n",
    "        x += v\n",
    "        xs[i+1] = x\n",
    "    return xs"
   ]
  },
  {
   "cell_type": "code",
   "execution_count": null,
   "metadata": {
    "collapsed": true
   },
   "outputs": [],
   "source": [
    "def demo2_GD_momentum():\n",
    "    line_x = np.linspace(-5, 5, 100)\n",
    "    line_y = func(line_x)\n",
    "    plt.figure('Gradient Desent: Learning Rate, Momentum')\n",
    "\n",
    "    x_start = -5\n",
    "    epochs = 6\n",
    "\n",
    "    lr = [0.01, 0.1, 0.6, 0.9]\n",
    "    momentum = [0.0, 0.1, 0.5, 0.9]\n",
    "\n",
    "    color = ['k', 'r', 'g', 'y']\n",
    "\n",
    "    row = len(lr)\n",
    "    col = len(momentum)\n",
    "    size = np.ones(epochs+1) * 10\n",
    "    size[-1] = 70\n",
    "    for i in range(row):\n",
    "        for j in range(col):\n",
    "            x = GD_momentum(x_start, dfunc, epochs, lr=lr[i], momentum=momentum[j])\n",
    "            plt.subplot(row, col, i * col + j + 1)\n",
    "            plt.plot(line_x, line_y, c='b')\n",
    "            plt.plot(x, func(x), c=color[i])#, label='lr={}, mo={}'.format(lr[i], momentum[j]))\n",
    "            plt.scatter(x, func(x), c=color[i], s=size)\n",
    "            plt.legend(loc=0)\n",
    "    plt.show()"
   ]
  },
  {
   "cell_type": "code",
   "execution_count": null,
   "metadata": {
    "collapsed": false
   },
   "outputs": [],
   "source": [
    "\n",
    "demo2_GD_momentum()"
   ]
  },
  {
   "cell_type": "code",
   "execution_count": null,
   "metadata": {
    "collapsed": false
   },
   "outputs": [],
   "source": [
    "a = [np.random.randn(i, 1) for i in [2,3]]"
   ]
  },
  {
   "cell_type": "code",
   "execution_count": null,
   "metadata": {
    "collapsed": false
   },
   "outputs": [],
   "source": [
    "a"
   ]
  },
  {
   "cell_type": "code",
   "execution_count": null,
   "metadata": {
    "collapsed": false
   },
   "outputs": [],
   "source": [
    "a = np.array(a)"
   ]
  },
  {
   "cell_type": "code",
   "execution_count": null,
   "metadata": {
    "collapsed": false
   },
   "outputs": [],
   "source": [
    "a.shape"
   ]
  },
  {
   "cell_type": "code",
   "execution_count": null,
   "metadata": {
    "collapsed": false
   },
   "outputs": [],
   "source": [
    "sum(a)"
   ]
  },
  {
   "cell_type": "code",
   "execution_count": null,
   "metadata": {
    "collapsed": false
   },
   "outputs": [],
   "source": [
    "64 *128"
   ]
  },
  {
   "cell_type": "code",
   "execution_count": null,
   "metadata": {
    "collapsed": false
   },
   "outputs": [],
   "source": [
    "a = pd.Series(np.random.randint(0,70, 2000) / 10.0)"
   ]
  },
  {
   "cell_type": "code",
   "execution_count": null,
   "metadata": {
    "collapsed": true
   },
   "outputs": [],
   "source": [
    "a.to_csv('answer.csv', index = False)"
   ]
  },
  {
   "cell_type": "code",
   "execution_count": null,
   "metadata": {
    "collapsed": false
   },
   "outputs": [],
   "source": [
    "df = pd.read_csv('./cikm/data_new/CIKM2017_train/data_sample.txt', header = None, index_col = 0)"
   ]
  },
  {
   "cell_type": "code",
   "execution_count": null,
   "metadata": {
    "collapsed": false
   },
   "outputs": [],
   "source": [
    "df.columns"
   ]
  },
  {
   "cell_type": "code",
   "execution_count": null,
   "metadata": {
    "collapsed": false
   },
   "outputs": [],
   "source": [
    "df.index"
   ]
  },
  {
   "cell_type": "code",
   "execution_count": null,
   "metadata": {
    "collapsed": false
   },
   "outputs": [],
   "source": [
    "df.shape"
   ]
  },
  {
   "cell_type": "code",
   "execution_count": null,
   "metadata": {
    "collapsed": false
   },
   "outputs": [],
   "source": [
    "df"
   ]
  },
  {
   "cell_type": "code",
   "execution_count": null,
   "metadata": {
    "collapsed": false
   },
   "outputs": [],
   "source": [
    "a = df.iloc[1, 1]"
   ]
  },
  {
   "cell_type": "code",
   "execution_count": null,
   "metadata": {
    "collapsed": true
   },
   "outputs": [],
   "source": [
    "b = a.split(' ')"
   ]
  },
  {
   "cell_type": "code",
   "execution_count": null,
   "metadata": {
    "collapsed": true
   },
   "outputs": [],
   "source": [
    "b?"
   ]
  },
  {
   "cell_type": "code",
   "execution_count": null,
   "metadata": {
    "collapsed": false
   },
   "outputs": [],
   "source": [
    "RATE_MATRIX = np.array(\n",
    "    [[5, 5, 3, 0, 5, 5],\n",
    "     [5, 0, 4, 0, 4, 4],\n",
    "     [0, 3, 0, 5, 4, 5],\n",
    "     [5, 4, 3, 3, 5, 5]]\n",
    ")\n",
    "\n",
    "nmf = NMF(n_components=2)  # 设有2个隐主题\n",
    "user_distribution = nmf.fit_transform(RATE_MATRIX)\n",
    "item_distribution = nmf.components_\n",
    "\n",
    "print '用户的主题分布：'\n",
    "print user_distribution\n",
    "print '物品的主题分布：'\n",
    "print item_distribution"
   ]
  },
  {
   "cell_type": "code",
   "execution_count": null,
   "metadata": {
    "collapsed": false
   },
   "outputs": [],
   "source": [
    "nmf."
   ]
  },
  {
   "cell_type": "code",
   "execution_count": null,
   "metadata": {
    "collapsed": false
   },
   "outputs": [],
   "source": [
    "a = np.array([[1,2],[2,3.999]])\n",
    "a"
   ]
  },
  {
   "cell_type": "code",
   "execution_count": null,
   "metadata": {
    "collapsed": false
   },
   "outputs": [],
   "source": [
    "x = np.array([[-3.999],[4]])\n",
    "x"
   ]
  },
  {
   "cell_type": "code",
   "execution_count": null,
   "metadata": {
    "collapsed": false
   },
   "outputs": [],
   "source": [
    "a.dot(x)"
   ]
  },
  {
   "cell_type": "code",
   "execution_count": null,
   "metadata": {
    "collapsed": true
   },
   "outputs": [],
   "source": [
    "def f(x, a):\n",
    "    return x*x - a;\n",
    "\n",
    "def df(x, a):\n",
    "    return 2*x\n",
    "\n",
    "def newton_sqrt(a):\n",
    "    a = float(a)\n",
    "    EPS = 0.001\n",
    "    xn = a;\n",
    "    while f(xn, a) > EPS:\n",
    "        f_xn = f(xn, a) \n",
    "        df_xn = df(xn, a)\n",
    "        xn = -1.0 * f(xn, a) / df(xn, a) + xn\n",
    "    return xn"
   ]
  },
  {
   "cell_type": "code",
   "execution_count": null,
   "metadata": {
    "collapsed": false
   },
   "outputs": [],
   "source": [
    "newton_sqrt(3)"
   ]
  },
  {
   "cell_type": "code",
   "execution_count": null,
   "metadata": {
    "collapsed": true
   },
   "outputs": [],
   "source": []
  }
 ],
 "metadata": {
  "anaconda-cloud": {},
  "kernelspec": {
   "display_name": "Python [default]",
   "language": "python",
   "name": "python2"
  },
  "language_info": {
   "codemirror_mode": {
    "name": "ipython",
    "version": 2
   },
   "file_extension": ".py",
   "mimetype": "text/x-python",
   "name": "python",
   "nbconvert_exporter": "python",
   "pygments_lexer": "ipython2",
   "version": "2.7.13"
  }
 },
 "nbformat": 4,
 "nbformat_minor": 2
}
